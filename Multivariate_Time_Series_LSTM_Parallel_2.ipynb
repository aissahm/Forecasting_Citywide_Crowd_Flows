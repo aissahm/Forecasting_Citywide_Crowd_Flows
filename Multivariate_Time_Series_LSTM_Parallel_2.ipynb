{
  "nbformat": 4,
  "nbformat_minor": 0,
  "metadata": {
    "colab": {
      "name": "Multivariate_Time_Series_LSTM_Parallel_2.ipynb",
      "provenance": [],
      "collapsed_sections": [
        "0VKXRurRwoaa",
        "oQAfan7Tx-my",
        "QECPCHqSBeC_",
        "HiAlIxGAy-Xu",
        "59zd5vXdq6fw",
        "DZuJsgZ2WNVu"
      ]
    },
    "kernelspec": {
      "name": "python3",
      "display_name": "Python 3"
    }
  },
  "cells": [
    {
      "cell_type": "markdown",
      "metadata": {
        "id": "HD8qDHaywitH"
      },
      "source": [
        "# **Multivariate time series using LSTM**"
      ]
    },
    {
      "cell_type": "markdown",
      "metadata": {
        "id": "0VKXRurRwoaa"
      },
      "source": [
        "## **Introduction**"
      ]
    },
    {
      "cell_type": "markdown",
      "metadata": {
        "id": "KnUw7ud3wqEJ"
      },
      "source": [
        "In this Jupyter notebook, we use LSTM to build a model for multivariate time series of the taxi trips, for the regions of Chicago. In this scenario, we consider only the inter-region taxi trips between the different regions. The idea is to focus the LSMT model to undertand better the interactions between the cities and predict better future taxi trips. \n",
        "\n",
        "To do that, we build a tensor containing a matrix representing the new-flows and end-flows of taxis for each region, at a given hour. Each row of the matrix is a pair [new-flow, end-flow] for a given region, at hour t.\n",
        "\n",
        "Then, for simplification, and pre-test, we build a corrrelation matrix between pairs of regions. Using a correlation threshold, we filter the regions with the highest correlations which should help the LSTM model understand better the interactions.\n",
        "\n",
        "First, let's setup the environment."
      ]
    },
    {
      "cell_type": "markdown",
      "metadata": {
        "id": "oQAfan7Tx-my"
      },
      "source": [
        "## **Setting up the environment**"
      ]
    },
    {
      "cell_type": "code",
      "metadata": {
        "id": "ibAOrLDlyBdY",
        "colab": {
          "base_uri": "https://localhost:8080/",
          "height": 190
        },
        "outputId": "5c54b6ae-9fe3-45ed-e490-2ee5c13fda29"
      },
      "source": [
        "#Libraries needed in this notebook\n",
        "import pandas as pd\n",
        "import cv2\n",
        "from google.colab.patches import cv2_imshow\n",
        "from matplotlib import pyplot as plt\n",
        "import numpy as np\n",
        "import timeSeriesMatrix\n",
        "\n",
        "#to track the time for the LSTM training part\n",
        "!pip install ipython-autotime\n",
        "%load_ext autotime"
      ],
      "execution_count": null,
      "outputs": [
        {
          "output_type": "stream",
          "text": [
            "Collecting ipython-autotime\n",
            "  Downloading https://files.pythonhosted.org/packages/e6/f9/0626bbdb322e3a078d968e87e3b01341e7890544de891d0cb613641220e6/ipython-autotime-0.1.tar.bz2\n",
            "Building wheels for collected packages: ipython-autotime\n",
            "  Building wheel for ipython-autotime (setup.py) ... \u001b[?25l\u001b[?25hdone\n",
            "  Created wheel for ipython-autotime: filename=ipython_autotime-0.1-cp36-none-any.whl size=1832 sha256=0298ed76262888af2182f6dde93aa7d85b4972d645f2766aeb2900c6d30183f5\n",
            "  Stored in directory: /root/.cache/pip/wheels/d2/df/81/2db1e54bc91002cec40334629bc39cfa86dff540b304ebcd6e\n",
            "Successfully built ipython-autotime\n",
            "Installing collected packages: ipython-autotime\n",
            "Successfully installed ipython-autotime-0.1\n"
          ],
          "name": "stdout"
        }
      ]
    },
    {
      "cell_type": "code",
      "metadata": {
        "id": "QkQbPeP7yjOl",
        "colab": {
          "base_uri": "https://localhost:8080/",
          "height": 68
        },
        "outputId": "b9c5b4bf-cc8c-449b-814c-4c318a2c1e1b"
      },
      "source": [
        "regions_with_minimum_taxi_trips = [[26, 365168.0], [53, 26872.0], [60, 459962.0], [62, 15995.0], [65, 18050.0], [66, 2536978.0], [67, 21184.0], [68, 59604.0], [72, 750790.0], [73, 96074.0], [75, 155855.0], [76, 716215.0], [77, 1399092.0], [78, 496385.0], [80, 30788.0], [82, 64346.0], [83, 427156.0], [88, 86480.0], [100, 62372.0], [125, 107300.0]]\n",
        "\n",
        "regions_selected_array = []\n",
        "\n",
        "for elem in regions_with_minimum_taxi_trips:\n",
        "  regions_selected_array.append(elem[0])\n",
        "\n",
        "print(\"List of region IDs with minimum taxi trips and representing 98% of all taxi flows\")\n",
        "print(regions_selected_array)"
      ],
      "execution_count": null,
      "outputs": [
        {
          "output_type": "stream",
          "text": [
            "List of region IDs with minimum taxi trips and representing 98% of all taxi flows\n",
            "[26, 53, 60, 62, 65, 66, 67, 68, 72, 73, 75, 76, 77, 78, 80, 82, 83, 88, 100, 125]\n",
            "time: 5.38 ms\n"
          ],
          "name": "stdout"
        }
      ]
    },
    {
      "cell_type": "code",
      "metadata": {
        "id": "VNvKgV8iwdHv",
        "colab": {
          "base_uri": "https://localhost:8080/",
          "height": 34
        },
        "outputId": "fdf1ec04-9d68-408b-d85b-65b2ba10dd5e"
      },
      "source": [
        "import timeSeriesAnalysis\n",
        "import timefunctions\n",
        "from numpy import array\n",
        "\n",
        "def returnListOfRegionsWithMinimumTaxiTrips(taxiTripsThreshold):\n",
        "  regionsFilteredArray = []\n",
        "  for regionTaxiTripPair in regions_with_minimum_taxi_trips:\n",
        "    if regionTaxiTripPair[1] >= taxiTripsThreshold:\n",
        "      regionsFilteredArray.append(regionTaxiTripPair[0])\n",
        "  return regionsFilteredArray\n",
        "\n",
        "def returnEmptyTaxiTripsTensor(numberOfRegionIDs,timePeriodinHour = 24*365):\n",
        "  emptyNewFlowEndFlowMatrix = [0 for j in range(2) for i in range(numberOfRegionIDs)]\n",
        "  emptyTensor = [emptyNewFlowEndFlowMatrix for j in range(timePeriodinHour)]\n",
        "  return emptyTensor\n",
        "\n",
        "def fillSimpleTaxiTripsTensorWith(taxiTripsTensor, regionsFilteredArray, dataframe, interRegionsOnly):\n",
        "  \n",
        "  for index, row in dataframe.iterrows():\n",
        "    pickupIndex = timeSeriesAnalysis.returnRegionIndexinArray( row['pickup_regionIDs'], regionsFilteredArray )\n",
        "    dropoffIndex = timeSeriesAnalysis.returnRegionIndexinArray( row['dropoff_regionIDs'], regionsFilteredArray )\n",
        "    \n",
        "    pickupTimestamp = [ row['pickup_month'], row['pickup_day'], row['pickup_hour']]\n",
        "    pickupTimeIndex = timefunctions.mappingFromTimestampToHourlyVector(pickupTimestamp) \n",
        "\n",
        "    dropoffTimestamp = [ row['dropoff_month'], row['dropoff_day'], row['dropoff_hour']]\n",
        "    dropoffTimeIndex = timefunctions.mappingFromTimestampToHourlyVector(dropoffTimestamp) \n",
        "    \n",
        "    if interRegionsOnly == True:\n",
        "      if pickupIndex >= 0 and  dropoffIndex >= 0 and pickupIndex != dropoffIndex:\n",
        "        prevValue = taxiTripsTensor[pickupTimeIndex][pickupIndex*2]\n",
        "        taxiTripsTensor[pickupTimeIndex][pickupIndex*2] = prevValue + 1\n",
        "\n",
        "        prevValue = taxiTripsTensor[dropoffTimeIndex][dropoffIndex*2 + 1]\n",
        "        taxiTripsTensor[dropoffTimeIndex][dropoffIndex*2 + 1] = prevValue + 1\n",
        "\n",
        "    else:\n",
        "      if pickupIndex >= 0 and  dropoffIndex >= 0:\n",
        "        prevValue = taxiTripsTensor[pickupTimeIndex][pickupIndex*2]\n",
        "        taxiTripsTensor[pickupTimeIndex][pickupIndex*2] = prevValue + 1\n",
        "\n",
        "        prevValue = taxiTripsTensor[dropoffTimeIndex][dropoffIndex*2 + 1]\n",
        "        taxiTripsTensor[dropoffTimeIndex][dropoffIndex*2 + 1] = prevValue + 1\n",
        "\n",
        "  return taxiTripsTensor\n",
        "\n",
        "#this function builds a tensor with new-flow and end-flows for each region \n",
        "#without knowledge of provenance or destination region\n",
        "def buildSimpleTaxiTripsTensor(csvFillPathArray, taxiTripsThreshold = 180000, timePeriodinHour = 24*365, interRegionsOnly = True):\n",
        "  regionsFilteredArray = returnListOfRegionsWithMinimumTaxiTrips(taxiTripsThreshold)\n",
        "  numberOfRegionIDs = len(regionsFilteredArray)\n",
        "  taxiTripsTensor = array(returnEmptyTaxiTripsTensor(numberOfRegionIDs,timePeriodinHour))\n",
        "  \n",
        "  for csvFilePath in csvFillPathArray:\n",
        "    dataframe = pd.read_csv(csvFilePath)\n",
        "    taxiTripsTensor = fillSimpleTaxiTripsTensorWith(taxiTripsTensor, regionsFilteredArray, dataframe, interRegionsOnly)\n",
        "  \n",
        "  return taxiTripsTensor"
      ],
      "execution_count": null,
      "outputs": [
        {
          "output_type": "stream",
          "text": [
            "time: 74.3 ms\n"
          ],
          "name": "stdout"
        }
      ]
    },
    {
      "cell_type": "code",
      "metadata": {
        "id": "Dh-RB08e1WFC",
        "colab": {
          "base_uri": "https://localhost:8080/",
          "height": 34
        },
        "outputId": "db1cb3a6-390f-4e7c-d613-adda54944fe2"
      },
      "source": [
        "csvFillPathArray = ['/content/clean_df_sep.csv', '/content/clean_df_oct.csv', '/content/clean_df_nov.csv']\n",
        "mintaxiTripsThreshold = 0\n",
        "taxiTripsTensor = buildSimpleTaxiTripsTensor(csvFillPathArray, taxiTripsThreshold = mintaxiTripsThreshold)"
      ],
      "execution_count": null,
      "outputs": [
        {
          "output_type": "stream",
          "text": [
            "time: 18min 2s\n"
          ],
          "name": "stdout"
        }
      ]
    },
    {
      "cell_type": "markdown",
      "metadata": {
        "id": "4handpLfBEHU"
      },
      "source": [
        "We check that we got the numbers right."
      ]
    },
    {
      "cell_type": "code",
      "metadata": {
        "id": "Dz-Hbn-1_zx6",
        "colab": {
          "base_uri": "https://localhost:8080/",
          "height": 68
        },
        "outputId": "3d6804fd-15ab-41e4-8d9e-cdd41ea2123d"
      },
      "source": [
        "taxiTripsTensor[24*242:24*242+1]"
      ],
      "execution_count": null,
      "outputs": [
        {
          "output_type": "execute_result",
          "data": {
            "text/plain": [
              "array([[23,  0,  1,  2, 38, 14,  0,  9,  0,  2, 82, 49,  0,  0,  0,  6,\n",
              "         7, 22,  0,  3, 18,  4, 16, 26, 33, 14,  3, 16,  0,  0,  0,  1,\n",
              "         4, 13,  0,  0,  0,  0,  3,  0]])"
            ]
          },
          "metadata": {
            "tags": []
          },
          "execution_count": 45
        },
        {
          "output_type": "stream",
          "text": [
            "time: 2.53 ms\n"
          ],
          "name": "stdout"
        }
      ]
    },
    {
      "cell_type": "markdown",
      "metadata": {
        "id": "qJSrmRVPBI_R"
      },
      "source": [
        "Since it took about 18 min tu build that tensor, we save a copy as a csv for future works."
      ]
    },
    {
      "cell_type": "code",
      "metadata": {
        "id": "giOflCZJAQeV",
        "colab": {
          "base_uri": "https://localhost:8080/",
          "height": 34
        },
        "outputId": "f8746b69-1cb8-4b8f-8b0b-6054114f6515"
      },
      "source": [
        "from numpy import asarray\n",
        "from numpy import savetxt\n",
        "\n",
        "CSVFilename = \"simpleTaxiTripsTensorSepNov\"\n",
        "data = asarray( taxiTripsTensor )\n",
        "# save to csv file\n",
        "CSVFullpath = '/content/' + CSVFilename + '.csv'\n",
        "savetxt(CSVFullpath, data, delimiter=',')"
      ],
      "execution_count": null,
      "outputs": [
        {
          "output_type": "stream",
          "text": [
            "time: 199 ms\n"
          ],
          "name": "stdout"
        }
      ]
    },
    {
      "cell_type": "code",
      "metadata": {
        "id": "FCIKsATQDHWx",
        "colab": {
          "base_uri": "https://localhost:8080/",
          "height": 34
        },
        "outputId": "d82eed5d-ec89-4945-c951-440f241a3b17"
      },
      "source": [
        "from numpy import loadtxt\n",
        "from numpy import asarray\n",
        "\n",
        "taxiTripsTensor = np.loadtxt(\"/content/simpleTaxiTripsTensorSepNov.csv\", delimiter=',')"
      ],
      "execution_count": null,
      "outputs": [
        {
          "output_type": "stream",
          "text": [
            "time: 293 ms\n"
          ],
          "name": "stdout"
        }
      ]
    },
    {
      "cell_type": "markdown",
      "metadata": {
        "id": "QECPCHqSBeC_"
      },
      "source": [
        "## **Building the correlation matrix**"
      ]
    },
    {
      "cell_type": "markdown",
      "metadata": {
        "id": "FTmpRK0WBheC"
      },
      "source": [
        "We build a single time series for each region as follows: each region will have a single array containing the new flows at each hour, from September to October 2017, followed by the end flows for the same period. Then, we compute the correlation matrix of that region's array with another region's."
      ]
    },
    {
      "cell_type": "code",
      "metadata": {
        "id": "Eml3QS9lCShj",
        "colab": {
          "base_uri": "https://localhost:8080/",
          "height": 34
        },
        "outputId": "10bbee49-299d-4c19-b84f-1bd46ccff947"
      },
      "source": [
        "def returnSingleEndFlowNewFlowChainMatrix( startingIndex, endingIndex, fullYearTaxiTripsTensor):\n",
        "  numberRegionIDs = int(fullYearTaxiTripsTensor.shape[1]/2)\n",
        "  singleEndFlowNewFlowChainMatrix = []\n",
        "  \n",
        "  i = 0\n",
        "  n = endingIndex\n",
        "\n",
        "  while i < numberRegionIDs:\n",
        "    \n",
        "    j = startingIndex\n",
        "    newflowchain = []\n",
        "    endflowchain = []\n",
        "    while j < endingIndex:\n",
        "      newflowchain.append(fullYearTaxiTripsTensor[j][i*2])\n",
        "      endflowchain.append(fullYearTaxiTripsTensor[j][i*2+1])\n",
        "      j = j + 1\n",
        "    \n",
        "    newflowendflowchain = newflowchain + endflowchain\n",
        "    singleEndFlowNewFlowChainMatrix.append(newflowendflowchain)\n",
        "    \n",
        "    i = i + 1\n",
        "\n",
        "  return singleEndFlowNewFlowChainMatrix"
      ],
      "execution_count": null,
      "outputs": [
        {
          "output_type": "stream",
          "text": [
            "time: 12.8 ms\n"
          ],
          "name": "stdout"
        }
      ]
    },
    {
      "cell_type": "markdown",
      "metadata": {
        "id": "fBcvC2rmO2YJ"
      },
      "source": [
        "Below, we make sure to compute the correlation matrix between the regions just for the period September to end of October. We leave the data for November so that the LSTM model can't see them."
      ]
    },
    {
      "cell_type": "code",
      "metadata": {
        "id": "i28XzVQ7FWUH",
        "colab": {
          "base_uri": "https://localhost:8080/",
          "height": 34
        },
        "outputId": "e74badd3-df24-4df7-bcce-3cab83ba344e"
      },
      "source": [
        "startIndex = 242*24\n",
        "endIndex = 333*24\n",
        "endIndexTraining = (242+61)*24\n",
        "\n",
        "singleEndFlowNewFlowChainMatrix = returnSingleEndFlowNewFlowChainMatrix( startIndex, endIndexTraining, taxiTripsTensor)"
      ],
      "execution_count": null,
      "outputs": [
        {
          "output_type": "stream",
          "text": [
            "time: 29.5 ms\n"
          ],
          "name": "stdout"
        }
      ]
    },
    {
      "cell_type": "code",
      "metadata": {
        "id": "QgajuacNNwGM",
        "colab": {
          "base_uri": "https://localhost:8080/",
          "height": 34
        },
        "outputId": "49f1911e-73a4-4590-80cf-a3a5795412b3"
      },
      "source": [
        "from scipy.stats import spearmanr\n",
        "from matplotlib import pyplot\n",
        "\n",
        "def plotTimeSeriesOneAgainstOne(timeSeries1, timeSeries2):\n",
        "  pyplot.scatter(timeSeries1, timeSeries2)\n",
        "  pyplot.show()\n",
        "\n",
        "def returnCorrelationCoefficient(timeSeries1, timeSeries2):\n",
        "  #returns coef, p \n",
        "  #Samples are correlated (reject H0) p> alpha, alpha = 0.05\n",
        "  return spearmanr(timeSeries1, timeSeries2)\n",
        "\n",
        "def returnEmptyCorrelationMatrixFor(numberOfRegionIDs):\n",
        "  return [[0 for j in range(numberOfRegionIDs)] for i in range(numberOfRegionIDs)]\n",
        "\n",
        "def buildCorrelationMatrix (singleFlowsTaxiTripsChainMatrix):\n",
        "  n = len(singleFlowsTaxiTripsChainMatrix)\n",
        "  i = 0\n",
        "  correlationMatrix = returnEmptyCorrelationMatrixFor(n)\n",
        "  while i < n-1:\n",
        "    correlationMatrix[i][i] = 0\n",
        "    j = i + 1\n",
        "    region1TimeSeries = singleFlowsTaxiTripsChainMatrix[i]\n",
        "    while j < n :\n",
        "      region2TimeSeries = singleFlowsTaxiTripsChainMatrix[j]\n",
        "      correlationValue = returnCorrelationCoefficient(region1TimeSeries, region2TimeSeries)\n",
        "      correlationMatrix[i][j] = abs(int(correlationValue[0] * 100))\n",
        "      correlationMatrix[j][i] = abs(int(correlationValue[0] * 100))\n",
        "      j = j + 1\n",
        "    i = i + 1\n",
        "  correlationMatrix[i][i] = 0\n",
        "  return correlationMatrix"
      ],
      "execution_count": null,
      "outputs": [
        {
          "output_type": "stream",
          "text": [
            "time: 22.3 ms\n"
          ],
          "name": "stdout"
        }
      ]
    },
    {
      "cell_type": "code",
      "metadata": {
        "id": "gvJtK_jFTr1y",
        "colab": {
          "base_uri": "https://localhost:8080/",
          "height": 34
        },
        "outputId": "d92932d5-c2a8-400c-bc74-388c26a2b7ef"
      },
      "source": [
        "correlationMatrix = buildCorrelationMatrix (singleEndFlowNewFlowChainMatrix)"
      ],
      "execution_count": null,
      "outputs": [
        {
          "output_type": "stream",
          "text": [
            "time: 298 ms\n"
          ],
          "name": "stdout"
        }
      ]
    },
    {
      "cell_type": "code",
      "metadata": {
        "id": "hSAp2leqUO3J",
        "colab": {
          "base_uri": "https://localhost:8080/",
          "height": 937
        },
        "outputId": "cb859578-65c1-445c-a5e2-5cadafe5e409"
      },
      "source": [
        "import seaborn as sns\n",
        "sns.set()\n",
        "f, ax = plt.subplots(figsize=(10, 10))\n",
        "ax.spines['bottom'].set_visible(False)\n",
        "ax.spines['left'].set_visible(False)\n",
        "ax = sns.heatmap(correlationMatrix, annot=True, square=True,cmap=\"Greens\")\n",
        "ax.set_xticklabels(regions_selected_array)\n",
        "ax.set_yticklabels(regions_selected_array)\n"
      ],
      "execution_count": null,
      "outputs": [
        {
          "output_type": "execute_result",
          "data": {
            "text/plain": [
              "[Text(0, 0.5, '26'),\n",
              " Text(0, 1.5, '53'),\n",
              " Text(0, 2.5, '60'),\n",
              " Text(0, 3.5, '62'),\n",
              " Text(0, 4.5, '65'),\n",
              " Text(0, 5.5, '66'),\n",
              " Text(0, 6.5, '67'),\n",
              " Text(0, 7.5, '68'),\n",
              " Text(0, 8.5, '72'),\n",
              " Text(0, 9.5, '73'),\n",
              " Text(0, 10.5, '75'),\n",
              " Text(0, 11.5, '76'),\n",
              " Text(0, 12.5, '77'),\n",
              " Text(0, 13.5, '78'),\n",
              " Text(0, 14.5, '80'),\n",
              " Text(0, 15.5, '82'),\n",
              " Text(0, 16.5, '83'),\n",
              " Text(0, 17.5, '88'),\n",
              " Text(0, 18.5, '100'),\n",
              " Text(0, 19.5, '125')]"
            ]
          },
          "metadata": {
            "tags": []
          },
          "execution_count": 113
        },
        {
          "output_type": "display_data",
          "data": {
            "image/png": "[encoded data removed]",
            "text/plain": [
              "<Figure size 720x720 with 2 Axes>"
            ]
          },
          "metadata": {
            "tags": []
          }
        },
        {
          "output_type": "stream",
          "text": [
            "time: 1.68 s\n"
          ],
          "name": "stdout"
        }
      ]
    },
    {
      "cell_type": "code",
      "metadata": {
        "id": "vb2Bq258bd7H",
        "colab": {
          "base_uri": "https://localhost:8080/",
          "height": 34
        },
        "outputId": "d17e9c1c-6ea4-422a-93cb-970e50a10bdb"
      },
      "source": [
        "def returnArrayofSimilarRegions(correlationthreshold, correlationMatrixRowArray):\n",
        "  similarRegionsArray = []\n",
        "  i = 0\n",
        "  for correlationValue in correlationMatrixRowArray:\n",
        "    if correlationValue >= correlationthreshold:\n",
        "      similarRegionsArray.append(regions_selected_array[i])\n",
        "    i = i + 1\n",
        "  return similarRegionsArray\n",
        "\n",
        "def isRegionInsideSimilarRegionsArray(regionIDvalue, similarRegionsArray):\n",
        "  i = 0\n",
        "  for similarRegionsRowArray in similarRegionsArray:\n",
        "    if regionIDvalue in similarRegionsRowArray:\n",
        "      return i\n",
        "    i = i + 1\n",
        "  return -1\n",
        "\n",
        "def clusterRegionsBySimilarity(correlationthreshold, correlationmatrix):\n",
        "  similarRegionsArray = []\n",
        "  n = len(correlationmatrix)\n",
        "  i = 0\n",
        "  while i < n:\n",
        "    regionIDvalue = regions_selected_array[i]\n",
        "    index = isRegionInsideSimilarRegionsArray(regionIDvalue, similarRegionsArray)\n",
        "    similarRegionsArrayRow = returnArrayofSimilarRegions(correlationthreshold, correlationmatrix[i])\n",
        "    similarRegionsArrayRow.append(regionIDvalue)\n",
        "    if index >= 0 :\n",
        "      similarRegionsArrayPrevious = similarRegionsArray[index]\n",
        "      updatedSimilarRegionsArray = similarRegionsArrayPrevious + similarRegionsArrayRow\n",
        "      updatedSimilarRegionsArray = list(dict.fromkeys(updatedSimilarRegionsArray))\n",
        "      similarRegionsArray[index] = updatedSimilarRegionsArray\n",
        "    else:\n",
        "      similarRegionsArray.append(similarRegionsArrayRow)\n",
        "    i = i + 1\n",
        "  \n",
        "  return similarRegionsArray"
      ],
      "execution_count": null,
      "outputs": [
        {
          "output_type": "stream",
          "text": [
            "time: 22.4 ms\n"
          ],
          "name": "stdout"
        }
      ]
    },
    {
      "cell_type": "code",
      "metadata": {
        "id": "bS0wcUsGwYIb",
        "colab": {
          "base_uri": "https://localhost:8080/",
          "height": 238
        },
        "outputId": "d18eef57-7cce-42d9-86e9-f204eedac08e"
      },
      "source": [
        "similarRegionsArray = clusterRegionsBySimilarity(79, correlationMatrix)\n",
        "\n",
        "similarRegionsArray"
      ],
      "execution_count": null,
      "outputs": [
        {
          "output_type": "execute_result",
          "data": {
            "text/plain": [
              "[[125, 26],\n",
              " [53],\n",
              " [60],\n",
              " [62],\n",
              " [65],\n",
              " [72, 76, 78, 83, 66, 77],\n",
              " [67],\n",
              " [68],\n",
              " [73],\n",
              " [75],\n",
              " [80],\n",
              " [88, 82],\n",
              " [100]]"
            ]
          },
          "metadata": {
            "tags": []
          },
          "execution_count": 127
        },
        {
          "output_type": "stream",
          "text": [
            "time: 4.13 ms\n"
          ],
          "name": "stdout"
        }
      ]
    },
    {
      "cell_type": "markdown",
      "metadata": {
        "id": "2Z260U2HyyVG"
      },
      "source": [
        "Now that we clustered the regions according to their correlation matrix, we can then feed each cluster of regions to the LSTM model for training.\n"
      ]
    },
    {
      "cell_type": "markdown",
      "metadata": {
        "id": "HiAlIxGAy-Xu"
      },
      "source": [
        "## **LSTM for the 3 clusters of regions**"
      ]
    },
    {
      "cell_type": "markdown",
      "metadata": {
        "id": "W11f7c6tzFD9"
      },
      "source": [
        "From the previous section, the 3 clusters are: \n",
        "1. [125, 26]\n",
        "2. [72, 76, 78, 83, 66, 77]\n",
        "3. [88, 82]\n",
        "\n",
        "For all the other remaining regions, we can explore how to model them, either a single LSTM for end-flows and new-flows, or two LSTM models for the 2 flows, intra-region and inter-regions."
      ]
    },
    {
      "cell_type": "code",
      "metadata": {
        "id": "deJF8QejzsCp",
        "colab": {
          "base_uri": "https://localhost:8080/",
          "height": 34
        },
        "outputId": "ef1a3c19-27cb-4989-9076-f51abf502c3d"
      },
      "source": [
        "startIndex = 242*24\n",
        "endIndex = 333*24\n",
        "endIndexTraining = 61*24\n",
        "\n",
        "taxiTripsTensorCopy = taxiTripsTensor[startIndex:endIndex].copy()"
      ],
      "execution_count": null,
      "outputs": [
        {
          "output_type": "stream",
          "text": [
            "time: 1.7 ms\n"
          ],
          "name": "stdout"
        }
      ]
    },
    {
      "cell_type": "code",
      "metadata": {
        "id": "5sv4DAdr4FXh",
        "colab": {
          "base_uri": "https://localhost:8080/",
          "height": 85
        },
        "outputId": "084a73fa-d362-4bfe-99b0-416696d2d745"
      },
      "source": [
        "taxiTripsTensor[startIndex+1]"
      ],
      "execution_count": null,
      "outputs": [
        {
          "output_type": "execute_result",
          "data": {
            "text/plain": [
              "array([ 6.,  0.,  0.,  0., 21., 29.,  0.,  4.,  0.,  0., 56., 47.,  0.,\n",
              "        0.,  0.,  0.,  6., 27.,  0.,  3., 13.,  0., 11., 40., 38., 21.,\n",
              "        3., 11.,  0.,  0.,  0.,  4.,  0.,  6.,  2.,  2.,  0.,  0.,  4.,\n",
              "        0.])"
            ]
          },
          "metadata": {
            "tags": []
          },
          "execution_count": 30
        },
        {
          "output_type": "stream",
          "text": [
            "time: 3.17 ms\n"
          ],
          "name": "stdout"
        }
      ]
    },
    {
      "cell_type": "code",
      "metadata": {
        "id": "Yq-vi8GN0K6B",
        "colab": {
          "base_uri": "https://localhost:8080/",
          "height": 34
        },
        "outputId": "4bc99ad3-c394-4e8d-f8a3-21c794fc32de"
      },
      "source": [
        "def returnTaxiTripsTensorForCluster(clusterRegionIDsArray, startingIndex, endingIndex, taxiTripsTensor , regionsFilteredArray):\n",
        "  indexClusterArray = []\n",
        "  for regionIDvalue in  clusterRegionIDsArray:\n",
        "    regionIDIndex = timeSeriesAnalysis.returnRegionIndexinArray( regionIDvalue, regionsFilteredArray )\n",
        "    indexClusterArray.append(regionIDIndex)\n",
        "  \n",
        "  clustertaxiTripsTensor = []\n",
        "  i = startingIndex\n",
        "  while i < endingIndex:\n",
        "    clusterTaxiTripsRow = []\n",
        "    for regionIDindex in indexClusterArray:\n",
        "      newFlow = taxiTripsTensor[i][regionIDindex*2]\n",
        "      endFlow = taxiTripsTensor[i][regionIDindex*2 + 1]\n",
        "      clusterTaxiTripsRow.append(newFlow)\n",
        "      clusterTaxiTripsRow.append(endFlow)\n",
        "    clustertaxiTripsTensor.append(clusterTaxiTripsRow)\n",
        "    i = i + 1\n",
        "  return clustertaxiTripsTensor"
      ],
      "execution_count": null,
      "outputs": [
        {
          "output_type": "stream",
          "text": [
            "time: 9.83 ms\n"
          ],
          "name": "stdout"
        }
      ]
    },
    {
      "cell_type": "code",
      "metadata": {
        "id": "VUKy-yLN2pac",
        "colab": {
          "base_uri": "https://localhost:8080/",
          "height": 34
        },
        "outputId": "5e922d31-70e9-4dd9-bf5c-4cc16dee7b59"
      },
      "source": [
        "clustertaxiTripsTensor = returnTaxiTripsTensorForCluster([82, 88], startIndex, endIndex, taxiTripsTensor, regions_selected_array)\n",
        "\n",
        "clustertaxiTripsTensor = array(clustertaxiTripsTensor)\n",
        "\n",
        "clustertaxiTripsTensor.shape"
      ],
      "execution_count": null,
      "outputs": [
        {
          "output_type": "execute_result",
          "data": {
            "text/plain": [
              "(2184, 4)"
            ]
          },
          "metadata": {
            "tags": []
          },
          "execution_count": 32
        },
        {
          "output_type": "stream",
          "text": [
            "time: 14.3 ms\n"
          ],
          "name": "stdout"
        }
      ]
    },
    {
      "cell_type": "code",
      "metadata": {
        "id": "T73P9pIB6CuP",
        "colab": {
          "base_uri": "https://localhost:8080/",
          "height": 34
        },
        "outputId": "cf81c252-4b6d-4a25-c389-f1ce49f5a971"
      },
      "source": [
        "from sklearn.preprocessing import MinMaxScaler\n",
        "from sklearn.preprocessing import StandardScaler\n",
        "\n",
        "taxiTripsTensorCopy = clustertaxiTripsTensor.copy()\n",
        "\n",
        "scaler = StandardScaler()\n",
        "scaler.fit(taxiTripsTensorCopy[:endIndexTraining])\n",
        "scaled_train_data = scaler.transform(taxiTripsTensorCopy)"
      ],
      "execution_count": null,
      "outputs": [
        {
          "output_type": "stream",
          "text": [
            "time: 4.6 ms\n"
          ],
          "name": "stdout"
        }
      ]
    },
    {
      "cell_type": "code",
      "metadata": {
        "id": "H_fOoCh9Dfe7",
        "colab": {
          "base_uri": "https://localhost:8080/",
          "height": 51
        },
        "outputId": "80e6576a-a369-4ede-8896-24fd5fde8972"
      },
      "source": [
        "scaled_train_data[:2]"
      ],
      "execution_count": null,
      "outputs": [
        {
          "output_type": "execute_result",
          "data": {
            "text/plain": [
              "array([[-0.86944006, -1.04571646, -0.96546165, -1.3136587 ],\n",
              "       [-0.86944006, -0.85268546, -0.66587796, -1.21656435]])"
            ]
          },
          "metadata": {
            "tags": []
          },
          "execution_count": 34
        },
        {
          "output_type": "stream",
          "text": [
            "time: 4.91 ms\n"
          ],
          "name": "stdout"
        }
      ]
    },
    {
      "cell_type": "code",
      "metadata": {
        "id": "O7SIRVGk6dTU",
        "colab": {
          "base_uri": "https://localhost:8080/",
          "height": 34
        },
        "outputId": "34d6fbf6-8d4c-4770-d18c-d25c4eead1f0"
      },
      "source": [
        "import timefeatures\n",
        "\n",
        "hoursinYear2017Array = timefeatures.retourHourArray(\"\")\n",
        "dayTypeEncodingArray = timefeatures.returnDayTypeArray('2017-01-01')\n",
        "\n",
        "feature_1 = hoursinYear2017Array[startIndex:endIndex]\n",
        "feature_2 = dayTypeEncodingArray[startIndex:endIndex]\n",
        "\n",
        "feature_1 = array(feature_1)\n",
        "feature_1 = feature_1.reshape(-1,1)\n",
        "\n",
        "feature_2 = array(feature_2)\n",
        "feature_2 = feature_2.reshape(-1,1)"
      ],
      "execution_count": null,
      "outputs": [
        {
          "output_type": "stream",
          "text": [
            "time: 11 ms\n"
          ],
          "name": "stdout"
        }
      ]
    },
    {
      "cell_type": "code",
      "metadata": {
        "id": "YYIFmpos60OM",
        "colab": {
          "base_uri": "https://localhost:8080/",
          "height": 68
        },
        "outputId": "8d634f81-355b-46d3-fcaa-0498deed555d"
      },
      "source": [
        "print(scaled_train_data.shape)\n",
        "\n",
        "print(feature_1.shape)"
      ],
      "execution_count": null,
      "outputs": [
        {
          "output_type": "stream",
          "text": [
            "(2184, 4)\n",
            "(2184, 1)\n",
            "time: 1.18 ms\n"
          ],
          "name": "stdout"
        }
      ]
    },
    {
      "cell_type": "code",
      "metadata": {
        "id": "5dDYTZTm635I",
        "colab": {
          "base_uri": "https://localhost:8080/",
          "height": 34
        },
        "outputId": "82caaa66-bd03-4314-bc6e-f8b54a769ee9"
      },
      "source": [
        "scaled_train_data_input = np.concatenate((scaled_train_data, feature_1, feature_2), axis=1)"
      ],
      "execution_count": null,
      "outputs": [
        {
          "output_type": "stream",
          "text": [
            "time: 2.66 ms\n"
          ],
          "name": "stdout"
        }
      ]
    },
    {
      "cell_type": "code",
      "metadata": {
        "id": "lSP7BUcx68Xn",
        "colab": {
          "base_uri": "https://localhost:8080/",
          "height": 51
        },
        "outputId": "af74e061-b1d8-47cb-a98b-e17264ac851c"
      },
      "source": [
        "from keras.preprocessing.sequence import TimeseriesGenerator\n",
        "from keras.models import Sequential\n",
        "from keras.layers import Dense\n",
        "from keras.layers import LSTM\n",
        "\n",
        "def returnLSTMModel(hourTrainRange, xtrain, ytrain, batchSize, nfeatures, nweights):\n",
        "  generator = TimeseriesGenerator(xtrain, ytrain, length=hourTrainRange, batch_size=batchSize)\n",
        "  lstm_model = Sequential()\n",
        "  lstm_model.add(LSTM(nweights, activation='relu', input_shape=(hourTrainRange, nfeatures)))\n",
        "  lstm_model.add(Dense(ytrain.shape[1]))\n",
        "  lstm_model.compile(optimizer='adam', loss='mse')\n",
        "\n",
        "  return [lstm_model, generator]"
      ],
      "execution_count": null,
      "outputs": [
        {
          "output_type": "stream",
          "text": [
            "Using TensorFlow backend.\n"
          ],
          "name": "stderr"
        },
        {
          "output_type": "stream",
          "text": [
            "time: 1.8 s\n"
          ],
          "name": "stdout"
        }
      ]
    },
    {
      "cell_type": "code",
      "metadata": {
        "id": "_BmgOBiD7BAT",
        "colab": {
          "base_uri": "https://localhost:8080/",
          "height": 34
        },
        "outputId": "4b4d4213-13c7-4939-c74c-90fad45579af"
      },
      "source": [
        "def returnLSTMForecast(lstm_model, hourTrainRange, nfeatures, forecastPeriodRange, xtrain, featureArray1, featureArray2):\n",
        "  lstm_predictions_scaled = list()\n",
        "\n",
        "  batch = xtrain[-hourTrainRange:]\n",
        "\n",
        "  current_batch = batch.reshape((-1, hourTrainRange, nfeatures))\n",
        "\n",
        "  j = 0\n",
        "  for i in range(forecastPeriodRange):   \n",
        "      lstm_pred = lstm_model.predict(current_batch)[0]\n",
        "\n",
        "      elem_array = []\n",
        "      for prediction in lstm_pred:\n",
        "        elem_array.append(prediction)\n",
        "      elem_array.append(featureArray1[j])\n",
        "      elem_array.append(featureArray2[j])\n",
        "\n",
        "      elem = np.array(elem_array)\n",
        "      elem = elem.reshape((1, nfeatures))\n",
        "\n",
        "      lstm_predictions_scaled.append(lstm_pred) \n",
        "\n",
        "      current_batch = np.append(current_batch[0] , elem, axis = 0)\n",
        "      current_batch = current_batch[1:]\n",
        "      current_batch = current_batch.reshape((-1, hourTrainRange, nfeatures))\n",
        "      j = j + 1\n",
        "\n",
        "  return lstm_predictions_scaled\n",
        "\n",
        "def plotForecastAgaintRealTimeSeries(predictionTimeSeries, targetTimeSeries):\n",
        "  plt.xlabel(\"Time in hour\") \n",
        "  plt.ylabel(\"Number of taxi trips\") \n",
        "  plt.title(\"Forecast in blue against actual time series\")\n",
        "  plt.plot(predictionTimeSeries,'blue', targetTimeSeries, 'g') \n",
        "  plt.show()"
      ],
      "execution_count": null,
      "outputs": [
        {
          "output_type": "stream",
          "text": [
            "time: 18.2 ms\n"
          ],
          "name": "stdout"
        }
      ]
    },
    {
      "cell_type": "code",
      "metadata": {
        "id": "R-lKQ3uAalec",
        "colab": {
          "base_uri": "https://localhost:8080/",
          "height": 34
        },
        "outputId": "abe8a12e-f494-4a33-a96f-7bf9a422d2bc"
      },
      "source": [
        "def returnRMSEofTensors(yforecast, y):\n",
        "  yforecast[yforecast < 0] = 0\n",
        "  ydifference = (yforecast - y)**2\n",
        "  rmse = (ydifference.sum()/(y.shape[0]*y.shape[1]))**0.5\n",
        "  return rmse\n",
        "\n",
        "def returnRMSEofTensorsForPeriodForecastArray(yforecast, y, periodForecastArray):\n",
        "  rmseArray = []\n",
        "  for periodForecast in periodForecastArray:\n",
        "    rmse = returnRMSEofTensors(yforecast[:periodForecast], y[:periodForecast])\n",
        "    rmseArray.append(rmse)\n",
        "  return rmseArray\n",
        "\n",
        "def returnSumofSquares(yforecast, y):\n",
        "  yforecast[yforecast < 0] = 0\n",
        "  ydifference = (yforecast - y)**2\n",
        "  sumSquares = ydifference.sum()\n",
        "  return sumSquares\n",
        "\n",
        "def returnSumofSquaresOfTensorsForPeriodForecastArray(yforecast, y, periodForecastArray):\n",
        "  sumSquaresArray = []\n",
        "  for periodForecast in periodForecastArray:\n",
        "    sumSquares = returnSumofSquares(yforecast[:periodForecast], y[:periodForecast])\n",
        "    sumSquaresArray.append(sumSquares)\n",
        "  return sumSquaresArray"
      ],
      "execution_count": null,
      "outputs": [
        {
          "output_type": "stream",
          "text": [
            "time: 18.1 ms\n"
          ],
          "name": "stdout"
        }
      ]
    },
    {
      "cell_type": "code",
      "metadata": {
        "id": "lxCeQDhA7C_K",
        "colab": {
          "base_uri": "https://localhost:8080/",
          "height": 901
        },
        "outputId": "0bcb4108-65dd-4873-85f0-b7eab1b08a62"
      },
      "source": [
        "#period for training\n",
        "startIndex = 0\n",
        "endIndexTraining = 61*24\n",
        "endIndex = endIndexTraining\n",
        "\n",
        "#parameters for the LSTM\n",
        "n_input = 6\n",
        "n_features= scaled_train_data_input.shape[1]\n",
        "batch_size = 1\n",
        "number_epochs = 25\n",
        "period_to_forecast = 24*7*2\n",
        "n_weights = (scaled_train_data_input.shape[1] - 2 )*200\n",
        "print(\"neurons =\", n_weights)\n",
        "\n",
        "rmseForecastingPeriodArrays = [5, 10, 12, 16, 20, 24, 24*7, 24*7*2]\n",
        "\n",
        "#creating instance of LSTM model\n",
        "lstm_model, generator = returnLSTMModel(n_input, scaled_train_data_input[startIndex:endIndex], scaled_train_data[startIndex:endIndex], batch_size, n_features, n_weights)\n",
        "  \n",
        "#training\n",
        "lstm_model.fit_generator(generator, epochs=number_epochs)"
      ],
      "execution_count": null,
      "outputs": [
        {
          "output_type": "stream",
          "text": [
            "neurons = 800\n",
            "Epoch 1/25\n",
            "1458/1458 [==============================] - 111s 76ms/step - loss: 0.4266\n",
            "Epoch 2/25\n",
            "1458/1458 [==============================] - 114s 78ms/step - loss: 0.3366\n",
            "Epoch 3/25\n",
            "1458/1458 [==============================] - 102s 70ms/step - loss: 0.3117\n",
            "Epoch 4/25\n",
            "1458/1458 [==============================] - 82s 56ms/step - loss: 0.2990\n",
            "Epoch 5/25\n",
            "1458/1458 [==============================] - 83s 57ms/step - loss: 0.2844\n",
            "Epoch 6/25\n",
            "1458/1458 [==============================] - 104s 71ms/step - loss: 0.2796\n",
            "Epoch 7/25\n",
            "1458/1458 [==============================] - 126s 87ms/step - loss: 0.2711\n",
            "Epoch 8/25\n",
            "1458/1458 [==============================] - 103s 71ms/step - loss: 0.2674\n",
            "Epoch 9/25\n",
            "1458/1458 [==============================] - 89s 61ms/step - loss: 0.2641\n",
            "Epoch 10/25\n",
            "1458/1458 [==============================] - 89s 61ms/step - loss: 0.2677\n",
            "Epoch 11/25\n",
            "1458/1458 [==============================] - 89s 61ms/step - loss: 0.2587\n",
            "Epoch 12/25\n",
            "1458/1458 [==============================] - 88s 60ms/step - loss: 0.2507\n",
            "Epoch 13/25\n",
            "1458/1458 [==============================] - 85s 58ms/step - loss: 0.2488\n",
            "Epoch 14/25\n",
            "1458/1458 [==============================] - 79s 54ms/step - loss: 0.2474\n",
            "Epoch 15/25\n",
            "1458/1458 [==============================] - 78s 54ms/step - loss: 0.2393\n",
            "Epoch 16/25\n",
            "1458/1458 [==============================] - 77s 53ms/step - loss: 0.2384\n",
            "Epoch 17/25\n",
            "1458/1458 [==============================] - 76s 52ms/step - loss: 0.2308\n",
            "Epoch 18/25\n",
            "1458/1458 [==============================] - 75s 52ms/step - loss: 0.2338\n",
            "Epoch 19/25\n",
            "1458/1458 [==============================] - 75s 51ms/step - loss: 0.2217\n",
            "Epoch 20/25\n",
            "1458/1458 [==============================] - 76s 52ms/step - loss: 0.2164\n",
            "Epoch 21/25\n",
            "1458/1458 [==============================] - 74s 51ms/step - loss: 0.2155\n",
            "Epoch 22/25\n",
            "1458/1458 [==============================] - 75s 51ms/step - loss: 0.2112\n",
            "Epoch 23/25\n",
            "1458/1458 [==============================] - 75s 52ms/step - loss: 0.2059\n",
            "Epoch 24/25\n",
            "1458/1458 [==============================] - 76s 52ms/step - loss: 0.1955\n",
            "Epoch 25/25\n",
            "1458/1458 [==============================] - 77s 53ms/step - loss: 0.1996\n"
          ],
          "name": "stdout"
        },
        {
          "output_type": "execute_result",
          "data": {
            "text/plain": [
              "<keras.callbacks.callbacks.History at 0x7ff8ac975940>"
            ]
          },
          "metadata": {
            "tags": []
          },
          "execution_count": 40
        },
        {
          "output_type": "stream",
          "text": [
            "time: 36min 21s\n"
          ],
          "name": "stdout"
        }
      ]
    },
    {
      "cell_type": "code",
      "metadata": {
        "id": "wUKdhbAuz9dR",
        "colab": {
          "base_uri": "https://localhost:8080/",
          "height": 122
        },
        "outputId": "6a3a451b-83db-43ca-9717-5f18e9c9f82a"
      },
      "source": [
        "feature1 =  feature_1[endIndex:endIndex + period_to_forecast]\n",
        "feature2 =  feature_2[endIndex:endIndex + period_to_forecast]\n",
        "\n",
        "lstm_predictions_scaled = returnLSTMForecast(lstm_model, n_input, n_features, period_to_forecast, scaled_train_data_input[startIndex:endIndex], feature1, feature2)\n",
        "lstm_predictions = scaler.inverse_transform(lstm_predictions_scaled)\n",
        "y_forecast = lstm_predictions.copy()\n",
        "y_ = clustertaxiTripsTensor[endIndex:endIndex + period_to_forecast].copy()\n",
        "\n",
        "rmse_array = returnRMSEofTensorsForPeriodForecastArray(y_forecast, y_, rmseForecastingPeriodArrays)\n",
        "\n",
        "print(\"RMSE results\")\n",
        "print(\"Region IDs :\", [82, 88])\n",
        "print(\"Forecasting period in hours :\", rmseForecastingPeriodArrays)\n",
        "print(\"RMSE array :\", rmse_array)"
      ],
      "execution_count": null,
      "outputs": [
        {
          "output_type": "stream",
          "text": [
            "RMSE results\n",
            "Region IDs : [82, 88]\n",
            "Forecasting period in hours : [5, 10, 12, 16, 20, 24, 168, 336]\n",
            "RMSE array : [1.2582665481768631, 2.5694880202865042, 3.7266969581242573, 4.625166228066768, 5.2595847967652425, 6.301286930705973, 6.95650396352625, 6.811412481674546]\n",
            "time: 1.42 s\n"
          ],
          "name": "stdout"
        }
      ]
    },
    {
      "cell_type": "markdown",
      "metadata": {
        "id": "J5DA3armElHC"
      },
      "source": [
        "**This Jupyter notebook was run on various instances to get the results for the other 2 clusters. Below are the results from those instances.**\n",
        "\n",
        "\n",
        "RMSE results after 25 epochs\n",
        "\n",
        "Region IDs : 26, 125\n",
        "\n",
        "Forecasting period in hours  [5, 10, 12, 16, 20, 24, 168, 336]\n",
        "\n",
        "RMSE array  [3.3974140049175254, 20.538825521655404, 32.49977146424823, 40.38558552463924, 41.794187993651335, 40.48633146074777, 34.046557520625356, 30.22450277446945]\n",
        "\n",
        "\n",
        "RMSE results after 32 epochs\n",
        "\n",
        "Region IDs : [66, 72, 76, 77, 78, 83]\n",
        "\n",
        "Forecasting period in hours : [5, 10, 12, 16, 20, 24, 168, 336]\n",
        "\n",
        "RMSE array : [5.100372731301856, 72.27703287801988, 86.45610673600409, 97.94215341864783, 107.71195901013753, 113.1433467850136, 74.02630859366127, 68.22244923746031]\n",
        "\n"
      ]
    },
    {
      "cell_type": "markdown",
      "metadata": {
        "id": "59zd5vXdq6fw"
      },
      "source": [
        "## **Forecasting new-flows and end-flows for each region with LSTM**"
      ]
    },
    {
      "cell_type": "markdown",
      "metadata": {
        "id": "q1qxbE-rrZDA"
      },
      "source": [
        "In this section, we build LSTM models for each of the 20 regions. The time series fed to the LSTM are the new-flows and end-flows of each region. An important thing to note is that we consider only the taxi-trips happening between the 20 regions, we exclude the other 70 regions of Chicago. The idea is to create a closed system which should help the LSTM understand better the taxi flows.  "
      ]
    },
    {
      "cell_type": "code",
      "metadata": {
        "id": "eOLj0TsKrwHA",
        "colab": {
          "base_uri": "https://localhost:8080/",
          "height": 34
        },
        "outputId": "26cbf948-397f-4ec5-90a8-d8544f2cb328"
      },
      "source": [
        "csvFillPathArray = ['/content/clean_df_sep.csv', '/content/clean_df_oct.csv', '/content/clean_df_nov.csv']\n",
        "mintaxiTripsThreshold = 0\n",
        "taxiTripsTensor = buildSimpleTaxiTripsTensor(csvFillPathArray, taxiTripsThreshold = mintaxiTripsThreshold, interRegionsOnly=False)"
      ],
      "execution_count": null,
      "outputs": [
        {
          "output_type": "stream",
          "text": [
            "time: 18min 39s\n"
          ],
          "name": "stdout"
        }
      ]
    },
    {
      "cell_type": "markdown",
      "metadata": {
        "id": "8zRBa82Xse1h"
      },
      "source": [
        "We check that we get the right numbers and that we included the intra-regions taxi trips. "
      ]
    },
    {
      "cell_type": "code",
      "metadata": {
        "id": "E2n7TUAFsUtW",
        "colab": {
          "base_uri": "https://localhost:8080/",
          "height": 85
        },
        "outputId": "a8fdd524-b857-4cae-abb1-7713f001cd70"
      },
      "source": [
        "taxiTripsTensor[24*242:24*242+1]"
      ],
      "execution_count": null,
      "outputs": [
        {
          "output_type": "execute_result",
          "data": {
            "text/plain": [
              "array([[ 26,   3,   1,   2,  47,  19,   0,   9,   0,   2, 136, 101,   0,\n",
              "          0,   0,   6,  16,  31,   0,   3,  20,   6,  16,  26,  35,  15,\n",
              "          4,  17,   0,   0,   0,   1,   4,  13,   0,   0,   0,   0,   3,\n",
              "          0]])"
            ]
          },
          "metadata": {
            "tags": []
          },
          "execution_count": 74
        },
        {
          "output_type": "stream",
          "text": [
            "time: 5.27 ms\n"
          ],
          "name": "stdout"
        }
      ]
    },
    {
      "cell_type": "markdown",
      "metadata": {
        "id": "KtoSR0kbstsy"
      },
      "source": [
        "We save the data for future works."
      ]
    },
    {
      "cell_type": "code",
      "metadata": {
        "id": "IuB93hX3sn-h",
        "colab": {
          "base_uri": "https://localhost:8080/",
          "height": 34
        },
        "outputId": "46109e65-b7c5-4c0f-ddb7-7dde0a10b1ab"
      },
      "source": [
        "from numpy import asarray\n",
        "from numpy import savetxt\n",
        "\n",
        "CSVFilename = \"interintraTaxiTripsTensorSepNov\"\n",
        "data = asarray( taxiTripsTensor )\n",
        "# save to csv file\n",
        "CSVFullpath = '/content/' + CSVFilename + '.csv'\n",
        "savetxt(CSVFullpath, data, delimiter=',')"
      ],
      "execution_count": null,
      "outputs": [
        {
          "output_type": "stream",
          "text": [
            "time: 204 ms\n"
          ],
          "name": "stdout"
        }
      ]
    },
    {
      "cell_type": "code",
      "metadata": {
        "id": "i9VaB98fSwrw",
        "colab": {
          "base_uri": "https://localhost:8080/",
          "height": 34
        },
        "outputId": "283301a3-5824-4af4-dfcb-439d81f92f99"
      },
      "source": [
        "from numpy import loadtxt\n",
        "\n",
        "taxiTripsTensor = np.loadtxt(\"/content/interintraTaxiTripsTensorSepNov.csv\", delimiter=',')"
      ],
      "execution_count": null,
      "outputs": [
        {
          "output_type": "stream",
          "text": [
            "time: 267 ms\n"
          ],
          "name": "stdout"
        }
      ]
    },
    {
      "cell_type": "code",
      "metadata": {
        "id": "bICBdLmgs0G6",
        "colab": {
          "base_uri": "https://localhost:8080/",
          "height": 34
        },
        "outputId": "7821d433-1e87-4bba-ce95-9e86032389fe"
      },
      "source": [
        "startIndex = 242*24\n",
        "endIndex = 333*24\n",
        "endIndexTraining = 61*24\n",
        "\n",
        "taxiTripsTensorCopy = taxiTripsTensor[startIndex:endIndex].copy()"
      ],
      "execution_count": null,
      "outputs": [
        {
          "output_type": "stream",
          "text": [
            "time: 2.03 ms\n"
          ],
          "name": "stdout"
        }
      ]
    },
    {
      "cell_type": "code",
      "metadata": {
        "id": "47L1tNpYtPye",
        "colab": {
          "base_uri": "https://localhost:8080/",
          "height": 34
        },
        "outputId": "f3dd3d07-ec0f-4ace-b468-94509aae5cc1"
      },
      "source": [
        "from sklearn.preprocessing import StandardScaler\n",
        "import timefeatures\n",
        "\n",
        "def buildLSTMModelFor(clusterOfRegionsIDs, startIndex, endIndex, endIndexTraining, taxiTripsTensor, regionsSelectedArray, number_epochs):\n",
        "  \n",
        "  clustertaxiTripsTensor = array(returnTaxiTripsTensorForCluster(clusterOfRegionsIDs, startIndex, endIndex, taxiTripsTensor, regionsSelectedArray))\n",
        "  \n",
        "  #We center and scale the data to make it easier for LSTM\n",
        "  taxiTripsTensorCopy = clustertaxiTripsTensor.copy()\n",
        "  scaler = StandardScaler()\n",
        "  scaler.fit(taxiTripsTensorCopy[:endIndexTraining])\n",
        "  scaled_train_data = scaler.transform(taxiTripsTensorCopy)\n",
        "\n",
        "  #We add two features: day and hour features\n",
        "  hoursinYear2017Array = timefeatures.retourHourArray(\"\")\n",
        "  dayTypeEncodingArray = timefeatures.returnDayTypeArray('2017-01-01')\n",
        "\n",
        "  feature_1 = array(hoursinYear2017Array[startIndex:endIndex])\n",
        "  feature_2 = array(dayTypeEncodingArray[startIndex:endIndex])\n",
        "  feature_1 = feature_1.reshape(-1,1)\n",
        "  feature_2 = feature_2.reshape(-1,1)\n",
        "\n",
        "  #We prepare the training input and the target\n",
        "  scaled_train_data_input = np.concatenate((scaled_train_data, feature_1, feature_2), axis=1)\n",
        "\n",
        "  #training index\n",
        "  startIndex = 0\n",
        "  endIndex = endIndexTraining\n",
        "\n",
        "  #parameters for the LSTM\n",
        "  n_input = 6\n",
        "  n_features= scaled_train_data_input.shape[1]\n",
        "  batch_size = 1\n",
        "  period_to_forecast = 24*7*2\n",
        "  n_weights = (scaled_train_data_input.shape[1] - 2 )*200\n",
        "\n",
        "  rmseForecastingPeriodArrays = [5, 10, 12, 16, 20, 24, 24*7, 24*7*2]\n",
        "\n",
        "  #creating instance of LSTM model\n",
        "  lstm_model, generator = returnLSTMModel(n_input, scaled_train_data_input[startIndex:endIndex], scaled_train_data[startIndex:endIndex], batch_size, n_features, n_weights)\n",
        "  \n",
        "  #training\n",
        "  lstm_model.fit_generator(generator, epochs=number_epochs, verbose=0)\n",
        "\n",
        "  feature1 =  feature_1[endIndex:endIndex + period_to_forecast]\n",
        "  feature2 =  feature_2[endIndex:endIndex + period_to_forecast]\n",
        "\n",
        "  lstm_predictions_scaled = returnLSTMForecast(lstm_model, n_input, n_features, period_to_forecast, scaled_train_data_input[startIndex:endIndex], feature1, feature2)\n",
        "  lstm_predictions = scaler.inverse_transform(lstm_predictions_scaled)\n",
        "  y_forecast = lstm_predictions.copy()\n",
        "  y_ = clustertaxiTripsTensor[endIndex:endIndex + period_to_forecast].copy()\n",
        "\n",
        "  rmse_array = returnRMSEofTensorsForPeriodForecastArray(y_forecast, y_, rmseForecastingPeriodArrays)\n",
        "\n",
        "  print(\"RMSE results\")\n",
        "  print(\"Region IDs :\", clusterOfRegionsIDs)\n",
        "  print(\"Forecasting period in hours :\", rmseForecastingPeriodArrays)\n",
        "  print(\"RMSE array :\", rmse_array)\n",
        "  print()\n",
        "\n",
        "  #sumofSquaresArray = returnSumofSquaresOfTensorsForPeriodForecastArray(y_forecast, y_, rmseForecastingPeriodArrays)\n",
        "\n",
        "  return [y_forecast, y_]\n"
      ],
      "execution_count": null,
      "outputs": [
        {
          "output_type": "stream",
          "text": [
            "time: 412 ms\n"
          ],
          "name": "stdout"
        }
      ]
    },
    {
      "cell_type": "code",
      "metadata": {
        "id": "8xtyHY0_y4xd",
        "colab": {
          "base_uri": "https://localhost:8080/",
          "height": 1000
        },
        "outputId": "af36261c-1a14-4591-b1b4-7610604f1179"
      },
      "source": [
        "totalSumofSquaresArray = [0, 0, 0, 0, 0, 0, 0, 0]\n",
        "\n",
        "startingIndex = 242*24\n",
        "endingIndex = 333*24\n",
        "endingIndexTraining = 61*24\n",
        "numberEpochs = 30\n",
        "\n",
        "for regionID in regions_selected_array:\n",
        "\n",
        "  if regionID == 77:\n",
        "    numberEpochs = 35\n",
        "  else:\n",
        "    numberEpochs = 30\n",
        "  \n",
        "  sumofSquaresArray = buildLSTMModelFor(regionID, startingIndex, endingIndex, endingIndexTraining,taxiTripsTensor, regions_selected_array,  numberEpochs)\n",
        "  \n",
        "  i = 0\n",
        "  for prevSumSquaresValue in totalSumofSquaresArray:\n",
        "    totalSumofSquaresArray[i] = prevSumSquaresValue + sumofSquaresArray[i]\n",
        "    i = i + 1\n",
        "  \n",
        "  print()\n",
        "  print(\"Total sum of squares\", totalSumofSquaresArray)\n",
        "\n",
        "print()\n",
        "print(\"Final sum of squares\")\n",
        "print(\"Total sum of squares\", totalSumofSquaresArray)  \n"
      ],
      "execution_count": null,
      "outputs": [
        {
          "output_type": "stream",
          "text": [
            "RMSE results\n",
            "Region ID : 26\n",
            "Forecasting period in hours : [5, 10, 12, 16, 20, 24, 168, 336]\n",
            "RMSE array : [8.343567170803675, 19.96914463238342, 40.04228218577765, 57.12121625740774, 59.51416865361885, 57.8582365113969, 53.48189101562423, 53.621929348383]\n",
            "\n",
            "\n",
            "Total sum of squares [696.1511313371284, 7975.334746980951, 38481.224703490705, 104410.66709521736, 141677.45082125557, 160683.6255460196, 961065.0559799881, 1932209.198332881]\n",
            "RMSE results\n",
            "Region ID : 53\n",
            "Forecasting period in hours : [5, 10, 12, 16, 20, 24, 168, 336]\n",
            "RMSE array : [0.9800333415964182, 1.1024591866719105, 1.5069594464852702, 1.4232931993037012, 1.4181309068326875, 1.9310388960970724, 4.945996885042628, 5.4096692740470615]\n",
            "\n",
            "\n",
            "Total sum of squares [705.7557848435348, 7999.643072146498, 38535.72694605113, 104475.49152821525, 141757.89463201212, 160862.61328449514, 969284.5854027701, 1951874.9568847513]\n",
            "RMSE results\n",
            "Region ID : 60\n",
            "Forecasting period in hours : [5, 10, 12, 16, 20, 24, 168, 336]\n",
            "RMSE array : [7.6436419299724525, 8.375556577977765, 8.527607551751663, 11.494749611674324, 22.846626705397355, 34.7853570398257, 51.83753737520439, 46.005686600226646]\n",
            "\n",
            "\n",
            "Total sum of squares [1290.0084043798647, 9402.64203196463, 40281.00911941174, 108703.62812453804, 162636.62870464314, 218943.6243751264, 1872160.3598610093, 3374178.5469879108]\n",
            "RMSE results\n",
            "Region ID : 62\n",
            "Forecasting period in hours : [5, 10, 12, 16, 20, 24, 168, 336]\n",
            "RMSE array : [2.316857452218462, 1.844369416198764, 1.7050417056595912, 1.586024575153211, 2.2509542616231424, 2.1136117716279283, 3.757082102906208, 3.897120474060193]\n",
            "\n",
            "\n",
            "Total sum of squares [1343.686688918867, 9470.676002832817, 40350.78113264467, 108784.12329103371, 162839.3005081599, 219158.0574017423, 1876903.22361281, 3384384.5792367468]\n",
            "RMSE results\n",
            "Region ID : 65\n",
            "Forecasting period in hours : [5, 10, 12, 16, 20, 24, 168, 336]\n",
            "RMSE array : [1.3070485878813318, 0.9514188086538138, 0.895311659506054, 0.9464576311437847, 1.573513621632584, 2.1816541794469764, 3.58174469029687, 3.5823989136149788]\n",
            "\n",
            "\n",
            "Total sum of squares [1360.7704490296928, 9488.779957822022, 40370.01912386821, 108812.78831655532, 162938.33831285845, 219386.5189197598, 1881213.732341704, 3393008.7463248]\n",
            "RMSE results\n",
            "Region ID : 66\n",
            "Forecasting period in hours : [5, 10, 12, 16, 20, 24, 168, 336]\n",
            "RMSE array : [37.583837700311, 67.71107388991871, 69.41312305197495, 82.29889396759508, 117.67590718013537, 118.59389499996342, 260.1521091338135, 256.1577990965891]\n",
            "\n",
            "\n",
            "Total sum of squares [15486.219011862879, 101184.57050434264, 156006.378767755, 325552.24266181793, 716843.1035395719, 894483.0916203525, 24621398.01429696, 47487510.46786652]\n",
            "RMSE results\n",
            "Region ID : 67\n",
            "Forecasting period in hours : [5, 10, 12, 16, 20, 24, 168, 336]\n",
            "RMSE array : [0.8912286943447896, 0.99053181590561, 0.927270072783081, 1.0268626383226498, 2.566324383587105, 3.021235688959611, 4.5113453776807795, 3.988563880801467]\n",
            "\n",
            "\n",
            "Total sum of squares [15494.161897719114, 101204.19356990907, 156027.0146826641, 325585.9849619134, 717106.5443732436, 894921.2291445881, 24628236.36596818, 47498201.0751771]\n",
            "RMSE results\n",
            "Region ID : 68\n",
            "Forecasting period in hours : [5, 10, 12, 16, 20, 24, 168, 336]\n",
            "RMSE array : [5.000969963585969, 3.606228235598816, 3.3179627929076325, 2.9604002389483264, 4.342854462109826, 5.571582844934287, 8.442409241054426, 8.66579335811942]\n",
            "\n",
            "\n",
            "Total sum of squares [15744.258903486005, 101464.29121165368, 156291.22773294698, 325866.4319883059, 717860.9597684062, 896411.2708436905, 24652184.521962777, 47548665.57005832]\n",
            "RMSE results\n",
            "Region ID : 72\n",
            "Forecasting period in hours : [5, 10, 12, 16, 20, 24, 168, 336]\n",
            "RMSE array : [9.220892408898248, 17.33528091435235, 24.942587178215998, 34.055926517584794, 42.944511198132, 48.854767106265605, 69.73822970804387, 58.385831915970655]\n",
            "\n",
            "\n",
            "Total sum of squares [16594.507471650777, 107474.53049924385, 171222.4114563767, 362980.2281793822, 791630.2014502656, 1010977.1077560482, 26286293.87138757, 49839449.97770375]\n",
            "RMSE results\n",
            "Region ID : 73\n",
            "Forecasting period in hours : [5, 10, 12, 16, 20, 24, 168, 336]\n",
            "RMSE array : [1.8311733802186148, 2.532268937764554, 6.859083064240339, 11.176465457304765, 14.514615711609276, 14.209750618298362, 19.502571817640128, 16.24015381261203]\n",
            "\n",
            "\n",
            "Total sum of squares [16628.03943113499, 107602.77821870719, 172351.53994794827, 366977.4563431687, 800057.1642204934, 1020669.1243624913, 26414091.574708313, 50016685.002119854]\n",
            "RMSE results\n",
            "Region ID : 75\n",
            "Forecasting period in hours : [5, 10, 12, 16, 20, 24, 168, 336]\n",
            "RMSE array : [4.035002179238171, 6.003751029711258, 7.978952874819391, 9.407324352866713, 24.29525587558854, 25.65633546268178, 22.114914658795353, 21.00881318660949]\n",
            "\n",
            "\n",
            "Total sum of squares [16790.851856999558, 108323.67874724236, 173879.4684834344, 369809.38439052994, 823667.5425429061, 1052265.006732427, 26578418.91003122, 50313285.797694474]\n",
            "RMSE results\n",
            "Region ID : 76\n",
            "Forecasting period in hours : [5, 10, 12, 16, 20, 24, 168, 336]\n",
            "RMSE array : [7.935900757438518, 15.561449026324917, 18.291966403680796, 29.87131210834504, 48.41973043271475, 49.83534953740565, 44.50396331128424, 42.15884489841061]\n",
            "\n",
            "\n",
            "Total sum of squares [17420.63706531869, 113166.85266322053, 181909.7733213557, 398362.8335769031, 917446.3543499766, 1171475.9857811662, 27243901.4341697, 51507677.23022354]\n",
            "RMSE results\n",
            "Region ID : 77\n",
            "Forecasting period in hours : [5, 10, 12, 16, 20, 24, 168, 336]\n",
            "RMSE array : [20.704774677457223, 41.81467174728096, 59.91883466411, 64.77042086061009, 93.53932616347011, 90.31295601810281, 67.8066335321243, 66.07467475880199]\n",
            "\n",
            "\n",
            "Total sum of squares [21707.514009761428, 148136.18812987767, 268076.1752614745, 532609.4709676409, 1267430.5759146183, 1562984.6269680993, 28788741.923292194, 54441536.92731508]\n",
            "RMSE results\n",
            "Region ID : 78\n",
            "Forecasting period in hours : [5, 10, 12, 16, 20, 24, 168, 336]\n",
            "RMSE array : [5.40564019619246, 46.21594403923811, 42.69982850603942, 42.914237953004935, 44.20404993554375, 42.997281452889915, 186.1465916055117, 2.5021193773309673e+19]\n",
            "\n",
            "\n",
            "Total sum of squares [21999.723469068344, 190854.45779863745, 311834.78376815876, 591541.689178429, 1345590.49714278, 1651725.4051603728, 40431327.921585515, 4.207124126294952e+41]\n",
            "RMSE results\n",
            "Region ID : 80\n",
            "Forecasting period in hours : [5, 10, 12, 16, 20, 24, 168, 336]\n",
            "RMSE array : [1.3401237821711407, 1.1884915478303586, 1.3219389813758675, 1.6100586622654687, 1.9330405069584249, 6.639316223292669, 22.957840985871776, 21.655553037257544]\n",
            "\n",
            "\n",
            "Total sum of squares [22017.68278658375, 190882.70804182274, 311876.7243122503, 591624.6424230989, 1345739.9629668419, 1653841.270116191, 40608420.90906366, 4.207124126294952e+41]\n",
            "RMSE results\n",
            "Region ID : 82\n",
            "Forecasting period in hours : [5, 10, 12, 16, 20, 24, 168, 336]\n",
            "RMSE array : [2.0553168896084886, 2.891366996179521, 2.7385257933489062, 2.8874151907726726, 5.496000506277846, 6.7278687686657355, 6.933833696337523, 6.683998026513341]\n",
            "\n",
            "\n",
            "Total sum of squares [22059.92606175085, 191049.90810395466, 312056.71287675045, 591891.4317505838, 1346948.2038294422, 1656013.9525882734, 40624575.133772425, 4.207124126294952e+41]\n"
          ],
          "name": "stdout"
        }
      ]
    },
    {
      "cell_type": "code",
      "metadata": {
        "id": "Q38O_E-HS7a8",
        "colab": {
          "base_uri": "https://localhost:8080/",
          "height": 819
        },
        "outputId": "8f4124c2-cbec-4c94-c98f-22ad0114c796"
      },
      "source": [
        "totalSumofSquaresArray = [21707.514009761428, 148136.18812987767, 268076.1752614745, 532609.4709676409, 1267430.5759146183, 1562984.6269680993, 28788741.923292194, 54441536.92731508]\n",
        "\n",
        "startingIndex = 242*24\n",
        "endingIndex = 333*24\n",
        "endingIndexTraining = 61*24\n",
        "numberEpochs = 30\n",
        "\n",
        "for regionID in [80, 82, 83, 88, 100, 125]:\n",
        "\n",
        "  if regionID == 77 or regionID == 78:\n",
        "    numberEpochs = 40\n",
        "  else:\n",
        "    numberEpochs = 30\n",
        "  \n",
        "  sumofSquaresArray = buildLSTMModelFor(regionID, startingIndex, endingIndex, endingIndexTraining,taxiTripsTensor, regions_selected_array,  numberEpochs)\n",
        "  \n",
        "  i = 0\n",
        "  for prevSumSquaresValue in totalSumofSquaresArray:\n",
        "    totalSumofSquaresArray[i] = prevSumSquaresValue + sumofSquaresArray[i]\n",
        "    i = i + 1\n",
        "  \n",
        "  print()\n",
        "  print(\"Total sum of squares\", totalSumofSquaresArray)\n",
        "\n",
        "print()\n",
        "print(\"Final sum of squares\")\n",
        "print(\"Total sum of squares\", totalSumofSquaresArray)  \n"
      ],
      "execution_count": null,
      "outputs": [
        {
          "output_type": "stream",
          "text": [
            "RMSE results\n",
            "Region ID : 80\n",
            "Forecasting period in hours : [5, 10, 12, 16, 20, 24, 168, 336]\n",
            "RMSE array : [2.043208773562079, 1.8188098574981761, 1.7111731813671573, 1.8075556187225075, 2.0611583949656573, 6.886965061737502, 23.657335801623702, 21.811983771796697]\n",
            "\n",
            "\n",
            "Total sum of squares [21749.261030685037, 148202.34951583232, 268146.44998923363, 532714.0232017137, 1267600.5108717838, 1565261.2807806558, 28976790.887801737, 54761249.418748155]\n",
            "RMSE results\n",
            "Region ID : 82\n",
            "Forecasting period in hours : [5, 10, 12, 16, 20, 24, 168, 336]\n",
            "RMSE array : [0.872146950913286, 2.090025894080245, 2.1860864012058556, 2.3931329378895136, 4.421719755027085, 6.3134492285804065, 7.739927734297611, 7.317341861060355]\n",
            "\n",
            "\n",
            "Total sum of squares [21756.86743372491, 148289.71368059085, 268261.1453593185, 532897.2899299829, 1268382.5750954638, 1567174.5435564253, 28996919.465529338, 54797230.64531277]\n",
            "RMSE results\n",
            "Region ID : 83\n",
            "Forecasting period in hours : [5, 10, 12, 16, 20, 24, 168, 336]\n",
            "RMSE array : [4.74062677890466, 11.990779790850564, 17.29256021495189, 25.886102060542747, 39.79136411712923, 39.60553921878822, 29.822716313556693, 27.989225992228985]\n",
            "\n",
            "\n",
            "Total sum of squares [21981.60285629359, 151165.28968044426, 275437.92869022425, 554340.1788864256, 1331716.6814275421, 1642467.282923352, 29295755.98672448, 55323673.27585758]\n",
            "RMSE results\n",
            "Region ID : 88\n",
            "Forecasting period in hours : [5, 10, 12, 16, 20, 24, 168, 336]\n",
            "RMSE array : [1.7142519793155222, 2.314933240375916, 4.2719876962514185, 5.304612784933101, 6.571865117322666, 7.664812110532973, 6.547551822951339, 6.68118226856386]\n",
            "\n",
            "\n",
            "Total sum of squares [22010.98945477946, 151272.4679985922, 275875.9257832704, 555240.6242239639, 1333444.2578723533, 1645287.251468461, 29310160.452842224, 55353670.14390946]\n",
            "RMSE results\n",
            "Region ID : 100\n",
            "Forecasting period in hours : [5, 10, 12, 16, 20, 24, 168, 336]\n",
            "RMSE array : [0.992949036247007, 24.071936518213217, 32.39416727621498, 41.796650278297946, 45.47265432225915, 42.49651697492066, 37.2287139616906, 35.423451064346004]\n",
            "\n",
            "\n",
            "Total sum of squares [22020.8489326653, 162861.63055332995, 301061.0955477359, 611143.343407527, 1416154.7495168203, 1731973.0413084475, 29775848.77297133, 56196909.77883652]\n",
            "RMSE results\n",
            "Region ID : 125\n",
            "Forecasting period in hours : [5, 10, 12, 16, 20, 24, 168, 336]\n",
            "RMSE array : [3.4000792166033738, 18.057505044089073, 21.783427023504654, 25.453676394861013, 25.998503677128998, 25.59305165878525, 20.82984119793281, 18.153586926126607]\n",
            "\n",
            "\n",
            "Total sum of squares [22136.454319457083, 169383.100321676, 312449.5201770564, 631875.8119519848, 1443191.6372548079, 1763413.2473824916, 29921633.22050658, 56418369.20552366]\n",
            "\n",
            "Final sum of squares\n",
            "Total sum of squares [22136.454319457083, 169383.100321676, 312449.5201770564, 631875.8119519848, 1443191.6372548079, 1763413.2473824916, 29921633.22050658, 56418369.20552366]\n",
            "time: 1h 6min 30s\n"
          ],
          "name": "stdout"
        }
      ]
    },
    {
      "cell_type": "code",
      "metadata": {
        "id": "_7Jj4AjbnnOS",
        "colab": {
          "base_uri": "https://localhost:8080/",
          "height": 241
        },
        "outputId": "c4399cda-6043-4adb-a5a8-f459cc08d608"
      },
      "source": [
        "totalSumofSquaresArray = [22136.454319457083, 169383.100321676, 312449.5201770564, 631875.8119519848, 1443191.6372548079, 1763413.2473824916, 29921633.22050658, 56418369.20552366]\n",
        "\n",
        "startingIndex = 242*24\n",
        "endingIndex = 333*24\n",
        "endingIndexTraining = 61*24\n",
        "numberEpochs = 45\n",
        "\n",
        "print(\"start\")\n",
        "\n",
        "for regionID in [78]:\n",
        "  \n",
        "  sumofSquaresArray = buildLSTMModelFor(regionID, startingIndex, endingIndex, endingIndexTraining,taxiTripsTensor, regions_selected_array,  numberEpochs)\n",
        "  \n",
        "  i = 0\n",
        "  for prevSumSquaresValue in totalSumofSquaresArray:\n",
        "    totalSumofSquaresArray[i] = prevSumSquaresValue + sumofSquaresArray[i]\n",
        "    i = i + 1\n",
        "  \n",
        "  print()\n",
        "  print(\"Total sum of squares\", totalSumofSquaresArray)\n",
        "\n",
        "print()\n",
        "print(\"Final sum of squares\")\n",
        "print(\"Total sum of squares\", totalSumofSquaresArray)  "
      ],
      "execution_count": null,
      "outputs": [
        {
          "output_type": "stream",
          "text": [
            "start\n",
            "RMSE results\n",
            "Region ID : 78\n",
            "Forecasting period in hours : [5, 10, 12, 16, 20, 24, 168, 336]\n",
            "RMSE array : [4.865694954034449, 35.95916651635292, 43.42904297029939, 46.91431716686137, 76.83091673788282, 82.32108019328572, 57.18050880564352, 66.21145870114191]\n",
            "\n",
            "\n",
            "Total sum of squares [22373.204193314246, 195244.33345269194, 357715.48273664305, 702306.3129194364, 1679311.2279261472, 2088697.7391035818, 31020222.377830062, 59364388.486483455]\n",
            "\n",
            "Final sum of squares\n",
            "Total sum of squares [22373.204193314246, 195244.33345269194, 357715.48273664305, 702306.3129194364, 1679311.2279261472, 2088697.7391035818, 31020222.377830062, 59364388.486483455]\n",
            "time: 18min 19s\n"
          ],
          "name": "stdout"
        }
      ]
    },
    {
      "cell_type": "markdown",
      "metadata": {
        "id": "1JqZx796SLLi"
      },
      "source": [
        "**RMSE for LSTM for all the regions**"
      ]
    },
    {
      "cell_type": "code",
      "metadata": {
        "id": "-28z4SyjSJ-H",
        "colab": {
          "base_uri": "https://localhost:8080/",
          "height": 105
        },
        "outputId": "3de27911-60a5-42a3-c40d-2ed506ccb840"
      },
      "source": [
        "totalSumofSquaresArray = [22373.204193314246, 195244.33345269194, 357715.48273664305, 702306.3129194364, 1679311.2279261472, 2088697.7391035818, 31020222.377830062, 59364388.486483455]\n",
        "rmseForecastingPeriodArrays = [5, 10, 12, 16, 20, 24, 24*7, 24*7*2]\n",
        "\n",
        "numberRegions = 20\n",
        "numberFlows = 2\n",
        "\n",
        "rmseForEachForecastedPeriod = []\n",
        "\n",
        "i = 0\n",
        "for sumOfSquares in totalSumofSquaresArray:\n",
        "  rmse = (sumOfSquares/(rmseForecastingPeriodArrays[i]*numberRegions*numberFlows))**0.5\n",
        "  rmseForEachForecastedPeriod.append(rmse)\n",
        "  i = i + 1\n",
        "\n",
        "print(\"Results of LSTM for all the 20 regions\")\n",
        "print(\"Period forecasted in hours :\", rmseForecastingPeriodArrays)  \n",
        "print(\"RMSE for each period :\", rmseForEachForecastedPeriod)"
      ],
      "execution_count": null,
      "outputs": [
        {
          "output_type": "stream",
          "text": [
            "Results of LSTM for all the 20 regions\n",
            "Period forecasted in hours : [5, 10, 12, 16, 20, 24, 168, 336]\n",
            "RMSE for each period : [10.576673435753381, 22.093230493337316, 27.299095022265355, 33.12632810826789, 45.81636208722474, 46.644686852483325, 67.94192020034778, 66.46046336701686]\n",
            "time: 7.05 ms\n"
          ],
          "name": "stdout"
        }
      ]
    },
    {
      "cell_type": "markdown",
      "metadata": {
        "id": "GPWpAghoRxXT"
      },
      "source": [
        "## **Forecasting intra-flows for the regions clustered**"
      ]
    },
    {
      "cell_type": "markdown",
      "metadata": {
        "id": "oSD4BoxrR7og"
      },
      "source": [
        "In this section, we build the second part of the model where we use LSTM to model intra-region new-flows and end-flows. This model will complement the other LSTM models built for the clustered regions. The sum of the forecasts of the inter-region taxi trips and intra-region taxi trips is the total forecast for each region.\n",
        "\n",
        "[125, 26]\n",
        "[72, 76, 78, 83, 66, 77]\n",
        "[88, 82]"
      ]
    },
    {
      "cell_type": "code",
      "metadata": {
        "id": "2Kd7ji9ISaBH",
        "colab": {
          "base_uri": "https://localhost:8080/",
          "height": 34
        },
        "outputId": "2f3328f1-dffa-438d-b005-e8dfd1cc6fcd"
      },
      "source": [
        "from numpy import loadtxt\n",
        "\n",
        "taxiTripsTensor = np.loadtxt(\"/content/intraTaxiTripsTensorSepNov.csv\", delimiter=',')"
      ],
      "execution_count": null,
      "outputs": [
        {
          "output_type": "stream",
          "text": [
            "time: 262 ms\n"
          ],
          "name": "stdout"
        }
      ]
    },
    {
      "cell_type": "code",
      "metadata": {
        "id": "mOjqvqZdTOR1",
        "colab": {
          "base_uri": "https://localhost:8080/",
          "height": 1000
        },
        "outputId": "2eb51bb2-4b91-4789-c23e-9079be544523"
      },
      "source": [
        "totalSumofSquaresArray = [0, 0, 0, 0, 0, 0, 0, 0]\n",
        "\n",
        "startingIndex = 242*24\n",
        "endingIndex = 333*24\n",
        "endingIndexTraining = 61*24\n",
        "numberEpochs = 30\n",
        "\n",
        "reduced_regions_selected_array = [26, 66, 72, 76, 77, 78, 82, 83, 88, 125]\n",
        "\n",
        "print(\"Forecasting intra-region taxi flows for :\", reduced_regions_selected_array)\n",
        "\n",
        "for regionID in reduced_regions_selected_array:\n",
        "\n",
        "  if regionID == 77 or regionID == 78:\n",
        "    numberEpochs = 40\n",
        "  else:\n",
        "    numberEpochs = 30\n",
        "  \n",
        "  sumofSquaresArray = buildLSTMModelFor(regionID, startingIndex, endingIndex, endingIndexTraining,taxiTripsTensor, regions_selected_array,  numberEpochs)\n",
        "  \n",
        "  i = 0\n",
        "  for prevSumSquaresValue in totalSumofSquaresArray:\n",
        "    totalSumofSquaresArray[i] = prevSumSquaresValue + sumofSquaresArray[i]\n",
        "    i = i + 1\n",
        "  \n",
        "  print()\n",
        "  print(\"Total sum of squares\", totalSumofSquaresArray)\n",
        "\n",
        "print()\n",
        "print(\"Final sum of squares\")\n",
        "print(\"Total sum of squares\", totalSumofSquaresArray) "
      ],
      "execution_count": null,
      "outputs": [
        {
          "output_type": "stream",
          "text": [
            "Forecasting intra-region taxi flows for : [26, 66, 72, 76, 77, 78, 82, 83, 88, 125]\n",
            "RMSE results\n",
            "Region ID : 26\n",
            "Forecasting period in hours : [5, 10, 12, 16, 20, 24, 168, 336]\n",
            "RMSE array : [17.83333838377933, 53.562285273688296, 72.88644824748103, 86.59320394422666, 84.61535255158017, 79.90617598307844, 51.81391475510904, 47.39303203138345]\n",
            "\n",
            "\n",
            "Total sum of squares [3180.279579103772, 57378.36807479933, 127498.42411518552, 239948.25501844578, 286390.3154971282, 306479.85409145773, 902053.0721159012, 1509378.8540058397]\n",
            "RMSE results\n",
            "Region ID : 66\n",
            "Forecasting period in hours : [5, 10, 12, 16, 20, 24, 168, 336]\n",
            "RMSE array : [14.389150131595429, 74.49249385756534, 79.40312529160839, 99.63385021717822, 136.20999396583133, 154.9846322560121, 211.02633727078626, 200.092272839713]\n",
            "\n",
            "\n",
            "Total sum of squares [5250.755994199699, 168361.00089718754, 278814.9754609822, 557609.1865096171, 1028516.8137440004, 1459451.1933969606, 15864843.719482245, 28414187.5149148]\n",
            "RMSE results\n",
            "Region ID : 72\n",
            "Forecasting period in hours : [5, 10, 12, 16, 20, 24, 168, 336]\n",
            "RMSE array : [8.689818401984141, 23.184609943033113, 34.30245843341579, 50.70410045705553, 67.2250424293496, 69.02524788983287, 53.031590352068434, 49.6050430994682]\n",
            "\n",
            "\n",
            "Total sum of squares [6005.885432794321, 179111.52366139935, 307054.7831708114, 639878.1722107108, 1209285.0669291145, 1688146.4660170986, 16809793.17677283, 30067751.237119664]\n",
            "RMSE results\n",
            "Region ID : 76\n",
            "Forecasting period in hours : [5, 10, 12, 16, 20, 24, 168, 336]\n",
            "RMSE array : [4.108300451655134, 43.66627783322176, 53.53791935730105, 61.76142097281919, 81.92611606116888, 93.428683611297, 56.98419332520368, 52.54882670850818]\n",
            "\n",
            "\n",
            "Total sum of squares [6174.666758805019, 217246.40005756164, 375846.1945894243, 761941.3120693282, 1477760.606643839, 2107134.574241411, 17900851.801851355, 31923398.051751897]\n",
            "RMSE results\n",
            "Region ID : 77\n",
            "Forecasting period in hours : [5, 10, 12, 16, 20, 24, 168, 336]\n",
            "RMSE array : [18.476565547496524, 42.29671270482239, 52.69578095563289, 54.39009107299358, 82.07215203351244, 92.8497159241781, 65.29608809190066, 59.346295802668884]\n",
            "\n",
            "\n",
            "Total sum of squares [9588.501503114374, 253026.63817024732, 442490.4825220013, 856606.3362910412, 1747194.132220318, 2520945.9221070386, 19333414.38620672, 34290170.51048647]\n",
            "RMSE results\n",
            "Region ID : 78\n",
            "Forecasting period in hours : [5, 10, 12, 16, 20, 24, 168, 336]\n",
            "RMSE array : [8.70030468320458, 16.45943223236637, 32.355098537345334, 39.723372919445346, 56.66770748849815, 60.36875628348636, 49.4669328666745, 52.61123273637351]\n",
            "\n",
            "\n",
            "Total sum of squares [10345.454518920289, 258444.89635848455, 467614.9401546731, 907100.6196861556, 1875643.2951003977, 2695876.4853973575, 20155598.808478042, 36150227.406833924]\n",
            "RMSE results\n",
            "Region ID : 82\n",
            "Forecasting period in hours : [5, 10, 12, 16, 20, 24, 168, 336]\n",
            "RMSE array : [3.7726598276226446, 3.5367388383231386, 3.395038292353061, 3.4692274081326917, 4.93671097202923, 7.168216918776151, 7.331198085371263, 7.163324469771938]\n",
            "\n",
            "\n",
            "Total sum of squares [10487.784140669866, 258695.0667906946, 467891.57099483017, 907485.7569280544, 1876618.1397092517, 2698342.8854194996, 20173657.62084134, 36184709.88896653]\n",
            "RMSE results\n",
            "Region ID : 83\n",
            "Forecasting period in hours : [5, 10, 12, 16, 20, 24, 168, 336]\n",
            "RMSE array : [3.5165576528278057, 19.16578607627571, 23.338161846941603, 27.288767310071243, 33.50981622854207, 32.99087624121803, 28.214435478960702, 25.536083758400565]\n",
            "\n",
            "\n",
            "Total sum of squares [10611.445917926485, 266041.6139091259, 480963.64615628717, 931315.4152097572, 1921534.451056078, 2750585.9853473413, 20441131.888958544, 36622915.42650372]\n",
            "RMSE results\n",
            "Region ID : 88\n",
            "Forecasting period in hours : [5, 10, 12, 16, 20, 24, 168, 336]\n",
            "RMSE array : [2.156631674942013, 2.8222881988343573, 4.7688527914618035, 5.289862188978094, 7.077181144986648, 9.06180167248182, 9.783416413386695, 9.52416462965588]\n",
            "\n",
            "\n",
            "Total sum of squares [10657.956519740117, 266200.9201226715, 481509.4531230064, 932210.8597530653, 1923537.9107744363, 2754527.5653258082, 20473292.2084957, 36683872.35289567]\n",
            "RMSE results\n",
            "Region ID : 125\n",
            "Forecasting period in hours : [5, 10, 12, 16, 20, 24, 168, 336]\n",
            "RMSE array : [1.9034594586566886, 17.699962256792748, 21.55894836968531, 31.95477935428596, 33.29579798365048, 32.43312296086756, 20.187733784217627, 19.11266578030898]\n",
            "\n",
            "\n",
            "Total sum of squares [10694.188098847613, 272466.6934005093, 492664.37123836856, 964886.3133076605, 1967882.3173091589, 2805019.1236455566, 20610227.19253076, 36929349.91634609]\n",
            "\n",
            "Final sum of squares\n",
            "Total sum of squares [10694.188098847613, 272466.6934005093, 492664.37123836856, 964886.3133076605, 1967882.3173091589, 2805019.1236455566, 20610227.19253076, 36929349.91634609]\n",
            "time: 1h 57min 18s\n"
          ],
          "name": "stdout"
        }
      ]
    },
    {
      "cell_type": "markdown",
      "metadata": {
        "id": "1HNj_k45SoO9"
      },
      "source": [
        "## **Forecasting inter-regions taxi flows**"
      ]
    },
    {
      "cell_type": "code",
      "metadata": {
        "id": "xa2EzAZ0Wl_i",
        "colab": {
          "base_uri": "https://localhost:8080/",
          "height": 34
        },
        "outputId": "27cc89d2-213f-4702-c753-f7aa06a7cfa3"
      },
      "source": [
        "from numpy import loadtxt\n",
        "\n",
        "taxiTripsTensor = np.loadtxt(\"/content/simpleTaxiTripsTensorSepNov.csv\", delimiter=',')"
      ],
      "execution_count": null,
      "outputs": [
        {
          "output_type": "stream",
          "text": [
            "time: 280 ms\n"
          ],
          "name": "stdout"
        }
      ]
    },
    {
      "cell_type": "code",
      "metadata": {
        "id": "y_1Dj9MpSxk8",
        "colab": {
          "base_uri": "https://localhost:8080/",
          "height": 394
        },
        "outputId": "85fe0266-a28c-41d3-ea59-c672a42adf32"
      },
      "source": [
        "clusters = [[26, 125], [82, 88]]\n",
        "\n",
        "regions_selected_array = [26, 53, 60, 62, 65, 66, 67, 68, 72, 73, 75, 76, 77, 78, 80, 82, 83, 88, 100, 125]\n",
        "\n",
        "startingIndex = 242*24\n",
        "endingIndex = 333*24\n",
        "endingIndexTraining = 61*24\n",
        "numberEpochs = 35\n",
        "\n",
        "print(\"Forecasting inter-region taxi flows for :\", clusters)\n",
        "print()\n",
        "\n",
        "y_hat_inter = None\n",
        "y_real_inter = None\n",
        "i = 0\n",
        "for cluster in clusters:\n",
        "\n",
        "  y_hat_cluster, y_real_cluster = buildLSTMModelFor(cluster, startingIndex, endingIndex, endingIndexTraining,taxiTripsTensor, regions_selected_array,  numberEpochs)\n",
        "  \n",
        "  if i == 0:\n",
        "    y_hat_inter = y_hat_cluster.copy()\n",
        "    y_real_inter = y_real_cluster.copy()\n",
        "  else:\n",
        "    y_hat_inter = np.concatenate((y_hat_inter, y_hat_cluster), axis=1)\n",
        "    y_real_inter = np.concatenate((y_real_inter, y_real_cluster), axis=1)\n",
        "  i = i + 1\n",
        "  \n",
        "  print(cluster)\n",
        "  print(y_hat_inter.shape)\n",
        "  print(y_real_inter.shape)\n",
        "  print() "
      ],
      "execution_count": null,
      "outputs": [
        {
          "output_type": "stream",
          "text": [
            "Forecasting inter-region taxi flows for : [[26, 125], [82, 88]]\n",
            "\n",
            "RMSE results\n",
            "Region IDs : [26, 125]\n",
            "Forecasting period in hours : [5, 10, 12, 16, 20, 24, 168, 336]\n",
            "RMSE array : [2.7342731122872532, 20.85391939717001, 33.38311700415501, 42.616534418546614, 47.40644495378726, 46.41894924440961, 34.185408465395135, 30.254309074058693]\n",
            "\n",
            "[26, 125]\n",
            "(336, 4)\n",
            "(336, 4)\n",
            "\n",
            "RMSE results\n",
            "Region IDs : [82, 88]\n",
            "Forecasting period in hours : [5, 10, 12, 16, 20, 24, 168, 336]\n",
            "RMSE array : [3.9613454521739997, 4.296202558486938, 4.723538190145912, 5.06654657626324, 5.861725372696657, 7.279154406757535, 10.389213506377677, 9.999449936686798]\n",
            "\n",
            "[82, 88]\n",
            "(336, 8)\n",
            "(336, 8)\n",
            "\n",
            "time: 1h 47min 50s\n"
          ],
          "name": "stdout"
        }
      ]
    },
    {
      "cell_type": "markdown",
      "metadata": {
        "id": "phDfNu03a5YS"
      },
      "source": [
        "Now, we consider only intra-region taxi trips"
      ]
    },
    {
      "cell_type": "code",
      "metadata": {
        "id": "DMO5VXmvalt_",
        "colab": {
          "base_uri": "https://localhost:8080/",
          "height": 700
        },
        "outputId": "a92e3dc9-4883-4838-fefc-7e05c363e64a"
      },
      "source": [
        "taxiTripsTensor = np.loadtxt(\"/content/intraTaxiTripsTensorSepNov.csv\", delimiter=',')\n",
        "\n",
        "regions_array = [26, 125, 82, 88]\n",
        "\n",
        "regions_selected_array = [26, 53, 60, 62, 65, 66, 67, 68, 72, 73, 75, 76, 77, 78, 80, 82, 83, 88, 100, 125]\n",
        "\n",
        "startingIndex = 242*24\n",
        "endingIndex = 333*24\n",
        "endingIndexTraining = 61*24\n",
        "numberEpochs = 40\n",
        "\n",
        "print(\"Forecasting inter-region taxi flows for :\", clusters)\n",
        "print()\n",
        "\n",
        "y_hat_intra = None\n",
        "y_real_intra = None\n",
        "i = 0\n",
        "for regionID in regions_array:\n",
        "  \n",
        "  if regionID == 77 or regionID == 78:\n",
        "    numberEpochs = 40\n",
        "  else:\n",
        "    numberEpochs = 40\n",
        "\n",
        "  cluster = [regionID]\n",
        "\n",
        "  y_hat_cluster, y_real_cluster = buildLSTMModelFor(cluster, startingIndex, endingIndex, endingIndexTraining,taxiTripsTensor, regions_selected_array,  numberEpochs)\n",
        "  \n",
        "  if i == 0:\n",
        "    y_hat_intra = y_hat_cluster.copy()\n",
        "    y_real_intra = y_real_cluster.copy()\n",
        "  else:\n",
        "    y_hat_intra = np.concatenate((y_hat_intra, y_hat_cluster), axis=1)\n",
        "    y_real_intra = np.concatenate((y_real_intra, y_real_cluster), axis=1)\n",
        "  i = i + 1\n",
        "  \n",
        "  print(cluster)\n",
        "  print(y_hat_intra.shape)\n",
        "  print(y_real_intra.shape)\n",
        "  print() "
      ],
      "execution_count": null,
      "outputs": [
        {
          "output_type": "stream",
          "text": [
            "Forecasting inter-region taxi flows for : [[26, 125], [82, 88]]\n",
            "\n",
            "RMSE results\n",
            "Region IDs : [26]\n",
            "Forecasting period in hours : [5, 10, 12, 16, 20, 24, 168, 336]\n",
            "RMSE array : [8.114791951026534, 34.923533600289815, 54.22795560625999, 70.29559395979565, 74.76512247177585, 70.86244132575054, 47.3997193152415, 39.99300071201063]\n",
            "\n",
            "[26]\n",
            "(336, 2)\n",
            "(336, 2)\n",
            "\n",
            "RMSE results\n",
            "Region IDs : [125]\n",
            "Forecasting period in hours : [5, 10, 12, 16, 20, 24, 168, 336]\n",
            "RMSE array : [1.2382268032036141, 12.755434876359969, 14.51505128726368, 20.752713566803916, 26.010554866282504, 24.581669513729114, 24.28258367149686, 20.49829776545629]\n",
            "\n",
            "[125]\n",
            "(336, 4)\n",
            "(336, 4)\n",
            "\n",
            "RMSE results\n",
            "Region IDs : [82]\n",
            "Forecasting period in hours : [5, 10, 12, 16, 20, 24, 168, 336]\n",
            "RMSE array : [5.567846906231986, 4.7647602927785675, 4.50536085897223, 4.542588973766447, 7.43763948104705, 9.639011439571355, 8.686503052454249, 8.678787589494908]\n",
            "\n",
            "[82]\n",
            "(336, 6)\n",
            "(336, 6)\n",
            "\n",
            "RMSE results\n",
            "Region IDs : [88]\n",
            "Forecasting period in hours : [5, 10, 12, 16, 20, 24, 168, 336]\n",
            "RMSE array : [2.6203819385345306, 2.6146439939700588, 3.894053892604174, 4.499355396078708, 5.432725712493756, 6.57852007014395, 6.661170378292679, 6.6544403905736536]\n",
            "\n",
            "[88]\n",
            "(336, 8)\n",
            "(336, 8)\n",
            "\n",
            "time: 1h 11min 11s\n"
          ],
          "name": "stdout"
        }
      ]
    },
    {
      "cell_type": "code",
      "metadata": {
        "id": "GJdSxJNGcO5z",
        "colab": {
          "base_uri": "https://localhost:8080/",
          "height": 88
        },
        "outputId": "c6196ac3-f575-4e2c-eee5-d5ad42455935"
      },
      "source": [
        "y_hat_inter[y_hat_inter < 0] = 0\n",
        "\n",
        "y_hat_intra[y_hat_intra < 0] = 0\n",
        "\n",
        "y_hat_total = y_hat_inter + y_hat_intra\n",
        "\n",
        "y_total = y_real_inter + y_real_intra\n",
        "\n",
        "rmse_Forecasting_Period_Arrays = [5, 10, 12, 16, 20, 24, 168, 336]\n",
        "\n",
        "sumofSquaresArray = returnSumofSquaresOfTensorsForPeriodForecastArray(y_hat_total, y_total, rmse_Forecasting_Period_Arrays)\n",
        "\n",
        "print(\"Forecasting periods :\", rmse_Forecasting_Period_Arrays)\n",
        "print(\"Sum of squares :\", sumofSquaresArray)\n"
      ],
      "execution_count": null,
      "outputs": [
        {
          "output_type": "stream",
          "text": [
            "Forecasting periods : [5, 10, 12, 16, 20, 24, 168, 336]\n",
            "Sum of squares : [2116.838386982061, 88797.1024670694, 256201.3500406627, 569402.8898849799, 856032.3091651261, 954999.5286359241, 3361936.7782118595, 4924237.533170622]\n",
            "time: 7.17 ms\n"
          ],
          "name": "stdout"
        }
      ]
    },
    {
      "cell_type": "markdown",
      "metadata": {
        "id": "DZuJsgZ2WNVu"
      },
      "source": [
        "## **Comparison between all the models**"
      ]
    },
    {
      "cell_type": "code",
      "metadata": {
        "id": "Zd3oV7YEWSc7",
        "colab": {
          "base_uri": "https://localhost:8080/",
          "height": 312
        },
        "outputId": "4d998982-4395-459f-8c0a-e0ff21d16a1f"
      },
      "source": [
        "simple_lstm_rmse = [46.644686852483325, 67.94192020034778, 66.46046336701686]\n",
        "\n",
        "RMSEArrayProphet = [128.57222144386014, 142.8213660317446, 148.9988832846455]\n",
        "RMSETBATS = [58.354547146888585, 57.28580350309184, 54.165096352630506]\n",
        "RMSEExpSmo = [85.66843515770087, 122.58325099411775, 111.6415556452773]\n",
        "totalFlows = [73.2, 93.50014880952381, 94.0453869047619]\n",
        "\n",
        "xLabels = [\"24h\", \"1 week\", \"2 weeks\"]\n",
        "\n",
        "plt.title('RMSE for forecasting taxi trips for all the 20 regions')\n",
        "plt.xlabel('Forecasting period, from October 31st 2017')\n",
        "plt.ylabel('RMSE')\n",
        "plt.plot( xLabels,  RMSEArrayProphet)\n",
        "plt.plot( xLabels,  RMSETBATS)\n",
        "plt.plot( xLabels,  RMSEExpSmo)\n",
        "plt.plot( xLabels,  totalFlows)\n",
        "plt.plot( xLabels,  simple_lstm_rmse)\n",
        "plt.legend(['Prophet', 'TBATS', 'Exponential Smoothing', 'Average Taxi Trips', \"LSTM\"], loc='upper right')\n",
        "plt.rcParams[\"figure.figsize\"] = (5,4)\n",
        "plt.show()"
      ],
      "execution_count": null,
      "outputs": [
        {
          "output_type": "display_data",
          "data": {
            "image/png": "[encoded data removed]",
            "text/plain": [
              "<Figure size 360x288 with 1 Axes>"
            ]
          },
          "metadata": {
            "tags": [],
            "needs_background": "light"
          }
        },
        {
          "output_type": "stream",
          "text": [
            "time: 148 ms\n"
          ],
          "name": "stdout"
        }
      ]
    }
  ]
}