{
  "nbformat": 4,
  "nbformat_minor": 0,
  "metadata": {
    "colab": {
      "name": "Chicago_Taxi_Trips_Data_Cleaning.ipynb",
      "provenance": [],
      "collapsed_sections": [
        "yvVpAzYub_fu"
      ]
    },
    "kernelspec": {
      "name": "python3",
      "display_name": "Python 3"
    }
  },
  "cells": [
    {
      "cell_type": "code",
      "metadata": {
        "id": "jDClPmBqdzqL",
        "colab": {
          "base_uri": "https://localhost:8080/",
          "height": 122
        },
        "outputId": "642c989f-165c-466f-a576-72aa81dae64f"
      },
      "source": [
        "from google.colab import drive\n",
        "drive.mount('/content/gdrive')"
      ],
      "execution_count": null,
      "outputs": [
        {
          "output_type": "stream",
          "text": [
            "Go to this URL in a browser: https://accounts.google.com/o/oauth2/auth?client_id=947318989803-6bn6qk8qdgf4n4g3pfee6491hc0brc4i.apps.googleusercontent.com&redirect_uri=urn%3aietf%3awg%3aoauth%3a2.0%3aoob&response_type=code&scope=email%20https%3a%2f%2fwww.googleapis.com%2fauth%2fdocs.test%20https%3a%2f%2fwww.googleapis.com%2fauth%2fdrive%20https%3a%2f%2fwww.googleapis.com%2fauth%2fdrive.photos.readonly%20https%3a%2f%2fwww.googleapis.com%2fauth%2fpeopleapi.readonly\n",
            "\n",
            "Enter your authorization code:\n",
            "··········\n",
            "Mounted at /content/gdrive\n"
          ],
          "name": "stdout"
        }
      ]
    },
    {
      "cell_type": "code",
      "metadata": {
        "id": "dgHhA3mbd-p0"
      },
      "source": [
        "import cv2\n",
        "from google.colab.patches import cv2_imshow\n",
        "from matplotlib import pyplot as plt\n",
        "import numpy as np\n",
        "import pandas as pd\n",
        "from google.colab.patches import cv2_imshow\n",
        "import math\n",
        "\n",
        "from collections import Counter\n",
        "import statistics \n",
        "from statistics import mode\n",
        "import cleanDataframe"
      ],
      "execution_count": null,
      "outputs": []
    },
    {
      "cell_type": "code",
      "metadata": {
        "id": "DB9mwsiGeBOL"
      },
      "source": [
        "img = cv2.imread('/content/chicago_road_network_thinned_inverted_2 tomodify.png', 0)\n",
        "img = cv2.threshold(img, 127, 255, cv2.THRESH_BINARY)[1]  # ensure binary\n",
        "num_labels, labels_im, stats, centroids = cv2.connectedComponentsWithStats(img)"
      ],
      "execution_count": null,
      "outputs": []
    },
    {
      "cell_type": "markdown",
      "metadata": {
        "id": "yvVpAzYub_fu"
      },
      "source": [
        "# **From first Gdrive**"
      ]
    },
    {
      "cell_type": "code",
      "metadata": {
        "id": "fIt9HjGPeKt5",
        "colab": {
          "base_uri": "https://localhost:8080/",
          "height": 309
        },
        "outputId": "1fcb271f-f959-46e8-b4ff-c9dfc0cb7c04"
      },
      "source": [
        "df_raw_jan = pd.read_feather('/content/gdrive/My Drive/urban-computing-project/taxi-may-2017-raw')\n",
        "\n",
        "\n",
        "df_raw_jan.head()"
      ],
      "execution_count": null,
      "outputs": [
        {
          "output_type": "execute_result",
          "data": {
            "text/html": [
              "<div>\n",
              "<style scoped>\n",
              "    .dataframe tbody tr th:only-of-type {\n",
              "        vertical-align: middle;\n",
              "    }\n",
              "\n",
              "    .dataframe tbody tr th {\n",
              "        vertical-align: top;\n",
              "    }\n",
              "\n",
              "    .dataframe thead th {\n",
              "        text-align: right;\n",
              "    }\n",
              "</style>\n",
              "<table border=\"1\" class=\"dataframe\">\n",
              "  <thead>\n",
              "    <tr style=\"text-align: right;\">\n",
              "      <th></th>\n",
              "      <th>trip_id</th>\n",
              "      <th>taxi_id</th>\n",
              "      <th>trip_start_timestamp</th>\n",
              "      <th>trip_end_timestamp</th>\n",
              "      <th>trip_seconds</th>\n",
              "      <th>trip_miles</th>\n",
              "      <th>pickup_census_tract</th>\n",
              "      <th>dropoff_census_tract</th>\n",
              "      <th>company</th>\n",
              "      <th>pickup_centroid_latitude</th>\n",
              "      <th>pickup_centroid_longitude</th>\n",
              "      <th>dropoff_centroid_latitude</th>\n",
              "      <th>dropoff_centroid_longitude</th>\n",
              "    </tr>\n",
              "  </thead>\n",
              "  <tbody>\n",
              "    <tr>\n",
              "      <th>0</th>\n",
              "      <td>ddc108ab8374663f0f37a2eaa744654e86880e8e</td>\n",
              "      <td>dd7168e09960e9ad844b244381925704255c8f01d1b6af...</td>\n",
              "      <td>2017-04-30T00:15:00.000</td>\n",
              "      <td>2017-04-30T00:30:00.000</td>\n",
              "      <td>822</td>\n",
              "      <td>3.1</td>\n",
              "      <td>17031842200</td>\n",
              "      <td>17031062900</td>\n",
              "      <td>Blue Diamond</td>\n",
              "      <td>41.904935302</td>\n",
              "      <td>-87.649907226</td>\n",
              "      <td>41.936237179</td>\n",
              "      <td>-87.656411531</td>\n",
              "    </tr>\n",
              "    <tr>\n",
              "      <th>1</th>\n",
              "      <td>8b477c3496e7c34f9992331752a5c0e00b581638</td>\n",
              "      <td>a4b608e480d78cdf6a1bf59575fd3290f346d0f06d0663...</td>\n",
              "      <td>2017-04-30T00:15:00.000</td>\n",
              "      <td>2017-04-30T00:30:00.000</td>\n",
              "      <td>897</td>\n",
              "      <td>3.1</td>\n",
              "      <td>None</td>\n",
              "      <td>None</td>\n",
              "      <td>Blue Diamond</td>\n",
              "      <td>41.944226601</td>\n",
              "      <td>-87.655998182</td>\n",
              "      <td>41.901206994</td>\n",
              "      <td>-87.676355989</td>\n",
              "    </tr>\n",
              "    <tr>\n",
              "      <th>2</th>\n",
              "      <td>73bb24291bfb79f243167416ddf70dad06ce2f5a</td>\n",
              "      <td>ea73ddfdd7cafa796ab1e254ffe3240fb6936e6f390c27...</td>\n",
              "      <td>2017-04-30T00:15:00.000</td>\n",
              "      <td>2017-04-30T00:15:00.000</td>\n",
              "      <td>671</td>\n",
              "      <td>2.3</td>\n",
              "      <td>17031080202</td>\n",
              "      <td>17031839100</td>\n",
              "      <td>Blue Diamond</td>\n",
              "      <td>41.905857769</td>\n",
              "      <td>-87.630865027</td>\n",
              "      <td>41.880994471</td>\n",
              "      <td>-87.632746489</td>\n",
              "    </tr>\n",
              "    <tr>\n",
              "      <th>3</th>\n",
              "      <td>e8bce35ccecf90ed4923900dae73bddd8ef4055d</td>\n",
              "      <td>efb464d432970a2a7a4ee8386f70c403f48c9ccd9008b7...</td>\n",
              "      <td>2017-04-30T00:15:00.000</td>\n",
              "      <td>2017-04-30T00:15:00.000</td>\n",
              "      <td>93</td>\n",
              "      <td>0.3</td>\n",
              "      <td>17031081201</td>\n",
              "      <td>17031081202</td>\n",
              "      <td>Checker Taxi</td>\n",
              "      <td>41.899155613</td>\n",
              "      <td>-87.626210532</td>\n",
              "      <td>41.902788048</td>\n",
              "      <td>-87.62614559</td>\n",
              "    </tr>\n",
              "    <tr>\n",
              "      <th>4</th>\n",
              "      <td>4d5ecc3169da39eae06db47b411ee92632844ee6</td>\n",
              "      <td>efb464d432970a2a7a4ee8386f70c403f48c9ccd9008b7...</td>\n",
              "      <td>2017-04-30T00:15:00.000</td>\n",
              "      <td>2017-04-30T00:30:00.000</td>\n",
              "      <td>230</td>\n",
              "      <td>0.9</td>\n",
              "      <td>17031081100</td>\n",
              "      <td>17031081401</td>\n",
              "      <td>Checker Taxi</td>\n",
              "      <td>41.900221297</td>\n",
              "      <td>-87.629105186</td>\n",
              "      <td>41.89503345</td>\n",
              "      <td>-87.619710672</td>\n",
              "    </tr>\n",
              "  </tbody>\n",
              "</table>\n",
              "</div>"
            ],
            "text/plain": [
              "                                    trip_id  ... dropoff_centroid_longitude\n",
              "0  ddc108ab8374663f0f37a2eaa744654e86880e8e  ...              -87.656411531\n",
              "1  8b477c3496e7c34f9992331752a5c0e00b581638  ...              -87.676355989\n",
              "2  73bb24291bfb79f243167416ddf70dad06ce2f5a  ...              -87.632746489\n",
              "3  e8bce35ccecf90ed4923900dae73bddd8ef4055d  ...               -87.62614559\n",
              "4  4d5ecc3169da39eae06db47b411ee92632844ee6  ...              -87.619710672\n",
              "\n",
              "[5 rows x 13 columns]"
            ]
          },
          "metadata": {
            "tags": []
          },
          "execution_count": 5
        }
      ]
    },
    {
      "cell_type": "code",
      "metadata": {
        "id": "s6MllRmseUs3"
      },
      "source": [
        "import cleanDataframe\n",
        "\n",
        "df_path = '/content/gdrive/My Drive/urban-computing-project/taxi-jan-2017-raw'\n",
        "df = cleanDataframe.cleanRawData(df_path, labels_im)\n",
        "\n",
        "df.to_csv(r'/content/clean_df_jan.csv')"
      ],
      "execution_count": null,
      "outputs": []
    },
    {
      "cell_type": "code",
      "metadata": {
        "id": "d6fuXHcCsG-Y"
      },
      "source": [
        "df_path = '/content/gdrive/My Drive/urban-computing-project/taxi-feb-2017-raw'\n",
        "df = []\n",
        "df = cleanDataframe.cleanRawData(df_path, labels_im)\n",
        "\n",
        "df.to_csv(r'/content/clean_df_feb.csv')"
      ],
      "execution_count": null,
      "outputs": []
    },
    {
      "cell_type": "code",
      "metadata": {
        "id": "fboATt-8sN_D"
      },
      "source": [
        "df_path = '/content/gdrive/My Drive/urban-computing-project/taxi-mar-2017-raw'\n",
        "df = []\n",
        "df = cleanDataframe.cleanRawData(df_path, labels_im)\n",
        "\n",
        "df.to_csv(r'/content/clean_df_mar.csv')"
      ],
      "execution_count": null,
      "outputs": []
    },
    {
      "cell_type": "code",
      "metadata": {
        "id": "vLCx53OzsQns"
      },
      "source": [
        "df_path = '/content/gdrive/My Drive/urban-computing-project/taxi-apr-2017-raw'\n",
        "df = []\n",
        "df = cleanDataframe.cleanRawData(df_path, labels_im)\n",
        "\n",
        "df.to_csv(r'/content/clean_df_apr.csv')"
      ],
      "execution_count": null,
      "outputs": []
    },
    {
      "cell_type": "code",
      "metadata": {
        "id": "5Vy4_uRzsayh"
      },
      "source": [
        "df_path = '/content/gdrive/My Drive/urban-computing-project/taxi-may-2017-raw'\n",
        "df = []\n",
        "df = cleanDataframe.cleanRawData(df_path, labels_im)\n",
        "\n",
        "df.to_csv(r'/content/clean_df_may.csv')"
      ],
      "execution_count": null,
      "outputs": []
    },
    {
      "cell_type": "markdown",
      "metadata": {
        "id": "P2_FTiTcb0iq"
      },
      "source": [
        "# **From other Gdrive**"
      ]
    },
    {
      "cell_type": "code",
      "metadata": {
        "id": "xPIH0Lc1b3d0"
      },
      "source": [
        "csvFilePathArray = ['/content/gdrive/My Drive/chicago_taxi_trips/taxi-nov-2017-raw', '/content/gdrive/My Drive/chicago_taxi_trips/taxi-dec-2017-raw']\n",
        "\n",
        "csvFilePathToSaveArray = ['/content/clean_df_nov.csv', '/content/clean_df_dec.csv']\n",
        "\n",
        "i = 0\n",
        "for csvFileElem in csvFilePathArray:\n",
        "  df_path = csvFileElem\n",
        "  df = []\n",
        "  df = cleanDataframe.cleanRawData(df_path, labels_im)\n",
        "  df.to_csv(csvFilePathToSaveArray[i])\n",
        "  i = i + 1"
      ],
      "execution_count": null,
      "outputs": []
    },
    {
      "cell_type": "code",
      "metadata": {
        "id": "92aAi1HT1rOQ"
      },
      "source": [
        "!cp  '/content/clean_df_nov.csv' '/content/gdrive/My Drive/chicago_taxi_trips/clean_df_nov.csv'\n",
        "\n",
        "!cp  '/content/clean_df_dec.csv' '/content/gdrive/My Drive/chicago_taxi_trips/clean_df_dec.csv'"
      ],
      "execution_count": null,
      "outputs": []
    },
    {
      "cell_type": "markdown",
      "metadata": {
        "id": "wvJPPIJpfKCj"
      },
      "source": [
        "## **Getting data from 2016**"
      ]
    },
    {
      "cell_type": "code",
      "metadata": {
        "id": "fTWxSJkmfJwk",
        "colab": {
          "base_uri": "https://localhost:8080/",
          "height": 119
        },
        "outputId": "823e2386-5992-4fff-d4e4-df9ef61be70d"
      },
      "source": [
        "csvFilePathArray = ['/content/gdrive/My Drive/urban-computing-project/taxi-sep-end-2016-raw','/content/gdrive/My Drive/urban-computing-project/taxi-oct-start-2016-raw', '/content/gdrive/My Drive/urban-computing-project/taxi-oct-2016-raw', '/content/gdrive/My Drive/urban-computing-project/taxi-nov-2016-raw', '/content/gdrive/My Drive/urban-computing-project/taxi-dec-2016-raw', '/content/gdrive/My Drive/urban-computing-project/taxi-dec-end-2016-raw']\n",
        "\n",
        "csvFilePathToSaveArray = ['/content/gdrive/My Drive/urban-computing-project/clean_df_sep_end_2016.csv' ,'/content/gdrive/My Drive/urban-computing-project/clean_df_oct_start_2016.csv' , '/content/gdrive/My Drive/urban-computing-project/clean_df_oct_2016.csv' ,'/content/gdrive/My Drive/urban-computing-project/clean_df_nov_2016.csv' , '/content/gdrive/My Drive/urban-computing-project/clean_df_dec_2016.csv', '/content/gdrive/My Drive/urban-computing-project/clean_df_dec_end_2016.csv']\n",
        "\n",
        "i = 0\n",
        "for csvFileElem in csvFilePathArray:\n",
        "  df_path = csvFileElem\n",
        "  df = []\n",
        "  df = cleanDataframe.cleanRawData(df_path, labels_im)\n",
        "  df.to_csv(csvFilePathToSaveArray[i])\n",
        "  print(i)\n",
        "  i = i + 1"
      ],
      "execution_count": null,
      "outputs": [
        {
          "output_type": "stream",
          "text": [
            "0\n",
            "1\n",
            "2\n",
            "3\n",
            "4\n",
            "5\n"
          ],
          "name": "stdout"
        }
      ]
    },
    {
      "cell_type": "markdown",
      "metadata": {
        "id": "xYwUG7yIEh4F"
      },
      "source": [
        "# **testing parsing filenames**"
      ]
    },
    {
      "cell_type": "code",
      "metadata": {
        "id": "4-csLMjmEkdQ"
      },
      "source": [
        "import os\n",
        "\n",
        "def returnBaseNameOfFileFullPath(resultDatasetPath):\n",
        "    name = resultDatasetPath.split('/')\n",
        "    baseName = name[len(name)-1]\n",
        "    name = baseName.split('.')\n",
        "    return name[0]\n",
        "\n",
        "def giveNametoCSVFile(basisname):\n",
        "  csvname = basisname.replace('taxi', 'clean-df')\n",
        "  csvname = csvname.replace('-raw', '')\n",
        "  csvname = csvname + \".csv\"\n",
        "  return csvname"
      ],
      "execution_count": null,
      "outputs": []
    },
    {
      "cell_type": "code",
      "metadata": {
        "id": "FD_42l_SEshY"
      },
      "source": [
        "#Plot best gene sequences\n",
        "\n",
        "yearstr = \"2016\"\n",
        "i = 0\n",
        "for filename in os.listdir(\"/content/gdrive/My Drive/urban-computing-project/\"):\n",
        "    #print(\"filename:\", filename)\n",
        "    baseName = returnBaseNameOfFileFullPath(filename)\n",
        "    if yearstr in baseName and \"raw\" in baseName:\n",
        "      print(baseName)\n",
        "      print(giveNametoCSVFile(baseName))\n",
        "      print()\n",
        "    i = i + 1"
      ],
      "execution_count": null,
      "outputs": []
    },
    {
      "cell_type": "code",
      "metadata": {
        "id": "dUX2X2U0JrWL",
        "colab": {
          "base_uri": "https://localhost:8080/",
          "height": 595
        },
        "outputId": "122d34af-dc68-44fe-aa15-2b2eaae4e709"
      },
      "source": [
        "yearstr = \"2016\"\n",
        "\n",
        "base_path = \"/content/gdrive/My Drive/urban-computing-project/\"\n",
        "i = 0\n",
        "for filename in os.listdir(\"/content/gdrive/My Drive/urban-computing-project/\"):\n",
        "  baseName = returnBaseNameOfFileFullPath(filename)\n",
        "  if yearstr in baseName and \"raw\" in baseName:\n",
        "    df_path = base_path + baseName\n",
        "    df = []\n",
        "    df = cleanDataframe.cleanRawData(df_path, labels_im)\n",
        "    csvFilePath = base_path + giveNametoCSVFile(baseName)\n",
        "    df.to_csv(csvFilePath)\n",
        "    print(csvFilePath)\n",
        "    print()\n",
        "  i = i + 1"
      ],
      "execution_count": null,
      "outputs": [
        {
          "output_type": "stream",
          "text": [
            "/content/gdrive/My Drive/urban-computing-project/clean-df-sep-start-2016.csv\n",
            "\n",
            "/content/gdrive/My Drive/urban-computing-project/clean-df-aug-end-2016.csv\n",
            "\n",
            "/content/gdrive/My Drive/urban-computing-project/clean-df-aug-start-2016.csv\n",
            "\n",
            "/content/gdrive/My Drive/urban-computing-project/clean-df-jul-end-2016.csv\n",
            "\n",
            "/content/gdrive/My Drive/urban-computing-project/clean-df-jul-start-2016.csv\n",
            "\n",
            "/content/gdrive/My Drive/urban-computing-project/clean-df-jun-end-2016.csv\n",
            "\n",
            "/content/gdrive/My Drive/urban-computing-project/clean-df-jun-start-2016.csv\n",
            "\n",
            "/content/gdrive/My Drive/urban-computing-project/clean-df-may-end-2016.csv\n",
            "\n",
            "/content/gdrive/My Drive/urban-computing-project/clean-df-may-start-2016.csv\n",
            "\n",
            "/content/gdrive/My Drive/urban-computing-project/clean-df-apr-end-2016.csv\n",
            "\n",
            "/content/gdrive/My Drive/urban-computing-project/clean-df-apr-start-2016.csv\n",
            "\n",
            "/content/gdrive/My Drive/urban-computing-project/clean-df-mar-end-2016.csv\n",
            "\n",
            "/content/gdrive/My Drive/urban-computing-project/clean-df-mar-start-2016.csv\n",
            "\n",
            "/content/gdrive/My Drive/urban-computing-project/clean-df-feb-end-2016.csv\n",
            "\n",
            "/content/gdrive/My Drive/urban-computing-project/clean-df-feb-start-2016.csv\n",
            "\n",
            "/content/gdrive/My Drive/urban-computing-project/clean-df-jan-end-2016.csv\n",
            "\n",
            "/content/gdrive/My Drive/urban-computing-project/clean-df-jan-start-2016.csv\n",
            "\n"
          ],
          "name": "stdout"
        }
      ]
    }
  ]
}