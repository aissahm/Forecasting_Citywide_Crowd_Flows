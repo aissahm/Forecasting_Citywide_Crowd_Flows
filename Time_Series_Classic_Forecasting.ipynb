{
  "nbformat": 4,
  "nbformat_minor": 0,
  "metadata": {
    "colab": {
      "name": "Time_Series_Classic_Forecasting.ipynb",
      "provenance": [],
      "collapsed_sections": [
        "LCnkHEB06Pol",
        "2Hx02rj16T-T",
        "SEBRoFO35pdz",
        "4tRtx4osrnRj",
        "yfVIQ3DarrDG",
        "W5DoPGnDrxH3",
        "peOyK6u3r1ZP",
        "RYFFcTc4QBWl",
        "lJytb9C0lnKB"
      ]
    },
    "kernelspec": {
      "name": "python3",
      "display_name": "Python 3"
    }
  },
  "cells": [
    {
      "cell_type": "markdown",
      "metadata": {
        "id": "_ICVQUFJ4Ep0"
      },
      "source": [
        "# **Time Series forecasting using classic statistical techniques**"
      ]
    },
    {
      "cell_type": "markdown",
      "metadata": {
        "id": "LCnkHEB06Pol"
      },
      "source": [
        "## **Setting up the environment**"
      ]
    },
    {
      "cell_type": "code",
      "metadata": {
        "id": "VAyZrn_a6iFb"
      },
      "source": [
        "#Libraries needed in this notebook\n",
        "import pandas as pd\n",
        "import cv2\n",
        "from google.colab.patches import cv2_imshow\n",
        "from matplotlib import pyplot as plt\n",
        "import numpy as np\n",
        "#import timeSeriesMatrix\n",
        "#import timeSeriesAnalysis\n",
        "from numpy import loadtxt\n",
        "from numpy import array\n",
        "\n",
        "#to track the time for the LSTM training part\n",
        "!pip install ipython-autotime\n",
        "%load_ext autotime\n",
        "\n",
        "taxitrips_df = pd.read_csv(\"/content/two_years_2015_2016_dataframe.csv\")"
      ],
      "execution_count": null,
      "outputs": []
    },
    {
      "cell_type": "code",
      "metadata": {
        "id": "hU5XRb6mQmlY",
        "colab": {
          "base_uri": "https://localhost:8080/",
          "height": 34
        },
        "outputId": "a810deb7-bdab-4c91-e450-5e5c4a816dec"
      },
      "source": [
        "from datetime import date\n",
        "from datetime import timedelta\n",
        "import datetime\n",
        "\n",
        "initial_date = datetime.datetime(2015, 1, 1, 0, 0)\n",
        "\n",
        "def convertDatetoHourIndex(taxiTripTimeStamp, yeartaxitrip):\n",
        "  taxitripdate = datetime.datetime(year=yeartaxitrip, month=taxiTripTimeStamp[0], day=taxiTripTimeStamp[1], hour=taxiTripTimeStamp[2])\n",
        "  diff = taxitripdate - initial_date\n",
        "  return int(diff.total_seconds() / 3600.0)"
      ],
      "execution_count": null,
      "outputs": [
        {
          "output_type": "stream",
          "text": [
            "time: 4.21 ms\n"
          ],
          "name": "stdout"
        }
      ]
    },
    {
      "cell_type": "code",
      "metadata": {
        "id": "Hv-awLi9StYN"
      },
      "source": [
        "#installing stats libraries\n",
        "\n",
        "!pip install tbats\n",
        "\n",
        "!pip install pmdarima"
      ],
      "execution_count": null,
      "outputs": []
    },
    {
      "cell_type": "code",
      "metadata": {
        "id": "gN8nalML6lvB",
        "colab": {
          "base_uri": "https://localhost:8080/",
          "height": 68
        },
        "outputId": "4cbafb97-40e2-44d6-9abe-a59e21ba5b4b"
      },
      "source": [
        "regions_with_minimum_taxi_trips = [[26, 365168.0], [53, 26872.0], [60, 459962.0], [62, 15995.0], [65, 18050.0], [66, 2536978.0], [67, 21184.0], [68, 59604.0], [72, 750790.0], [73, 96074.0], [75, 155855.0], [76, 716215.0], [77, 1399092.0], [78, 496385.0], [80, 30788.0], [82, 64346.0], [83, 427156.0], [88, 86480.0], [100, 62372.0], [125, 107300.0]]\n",
        "\n",
        "regions_selected_array = []\n",
        "\n",
        "for elem in regions_with_minimum_taxi_trips:\n",
        "  regions_selected_array.append(elem[0])\n",
        "\n",
        "print(\"List of region IDs with minimum taxi trips and representing 98% of all taxi flows\")\n",
        "print(regions_selected_array)"
      ],
      "execution_count": null,
      "outputs": [
        {
          "output_type": "stream",
          "text": [
            "List of region IDs with minimum taxi trips and representing 98% of all taxi flows\n",
            "[26, 53, 60, 62, 65, 66, 67, 68, 72, 73, 75, 76, 77, 78, 80, 82, 83, 88, 100, 125]\n",
            "time: 4.7 ms\n"
          ],
          "name": "stdout"
        }
      ]
    },
    {
      "cell_type": "markdown",
      "metadata": {
        "id": "2Hx02rj16T-T"
      },
      "source": [
        "## **Implementation of the functions**"
      ]
    },
    {
      "cell_type": "markdown",
      "metadata": {
        "id": "XnAxQp367OYi"
      },
      "source": [
        "**Time series retrieving**"
      ]
    },
    {
      "cell_type": "code",
      "metadata": {
        "id": "Nxl2V6x87Rzw",
        "colab": {
          "base_uri": "https://localhost:8080/",
          "height": 34
        },
        "outputId": "86387e44-ea8d-402e-d0bf-806567a9dcd7"
      },
      "source": [
        "def returnTaxiTripsTensorForCluster(clusterRegionIDsArray, startingIndex, endingIndex, thetaxiTripsTensor , regionsFilteredArray, askingNewFlow = True):\n",
        "  indexClusterArray = []\n",
        "  for regionIDvalue in  clusterRegionIDsArray:\n",
        "    regionIDIndex = timeSeriesAnalysis.returnRegionIndexinArray( regionIDvalue, regionsFilteredArray )\n",
        "    indexClusterArray.append(regionIDIndex)\n",
        "  \n",
        "  k = 0\n",
        "  if askingNewFlow == False:\n",
        "    k = 1\n",
        "\n",
        "  clustertaxiTripsTensor = []\n",
        "  i = startingIndex\n",
        "  while i < endingIndex:\n",
        "    clusterTaxiTripsRow = []\n",
        "    for regionIDindex in indexClusterArray:\n",
        "      flow = thetaxiTripsTensor[i][regionIDindex*2 + k]\n",
        "      clusterTaxiTripsRow.append(flow)\n",
        "    clustertaxiTripsTensor.append(clusterTaxiTripsRow)\n",
        "    i = i + 1\n",
        "  return clustertaxiTripsTensor\n",
        "\n",
        "#this function returns the time series on which to train and make forecasts\n",
        "def returnTimeSeriesForRegion(clusterRegionIDsArray, startingIndex, endingIndex, endingTrainIndex, thetaxiTripsTensor , regionsFilteredArray, askingNewFlow = True):\n",
        "  maxforecastperiod = 24*7*2\n",
        "  y_timeSeries = returnTaxiTripsTensorForCluster(clusterRegionIDsArray, startingIndex, endingIndex, thetaxiTripsTensor , regionsFilteredArray, askingNewFlow)\n",
        "  y_training = array(y_timeSeries[:endingTrainIndex])\n",
        "  y_testing = array(y_timeSeries[endingTrainIndex:endingTrainIndex+maxforecastperiod])\n",
        "\n",
        "  y_training = y_training.reshape(y_training.shape[0])\n",
        "  y_testing = y_testing.reshape(y_testing.shape[0])\n",
        "\n",
        "  return [y_training, y_testing]"
      ],
      "execution_count": null,
      "outputs": [
        {
          "output_type": "stream",
          "text": [
            "time: 16 ms\n"
          ],
          "name": "stdout"
        }
      ]
    },
    {
      "cell_type": "code",
      "metadata": {
        "id": "oRcausrc6S8o",
        "colab": {
          "base_uri": "https://localhost:8080/",
          "height": 34
        },
        "outputId": "d6ea7e96-dd5e-455f-cb8a-cf1deacfd4f5"
      },
      "source": [
        "def returnMSESumFor(timeSeriesForecast, timeSeriesReal):\n",
        "  n = len(timeSeriesForecast)\n",
        "  if len(timeSeriesReal) != n:\n",
        "    print(\"error : RMSE , not same sizes arrays\")\n",
        "    return -1\n",
        "  i = 0 \n",
        "  mse = 0\n",
        "  while i < n:\n",
        "    if timeSeriesForecast[i] < 0:\n",
        "      timeSeriesForecast[i] = 0\n",
        "    mse = mse + (timeSeriesForecast[i] - timeSeriesReal[i])**2\n",
        "    i = i + 1\n",
        "  return mse\n",
        "\n",
        "def returnRMSEofTensors(yforecast, y):\n",
        "  yforecast[yforecast < 0] = 0\n",
        "  ydifference = (yforecast - y)**2\n",
        "  rmse = (ydifference.sum()/(y.shape[0]*y.shape[1]))**0.5\n",
        "  return rmse\n",
        "\n",
        "def returnRMSEofTensorsForPeriodForecastArray(yforecast, y, periodForecastArray):\n",
        "  rmseArray = []\n",
        "  for periodForecast in periodForecastArray:\n",
        "    rmse = returnRMSEofTensors(yforecast[:periodForecast], y[:periodForecast])\n",
        "    rmseArray.append(rmse)\n",
        "  return rmseArray\n",
        "\n",
        "def returnSumofSquares(yforecast, y):\n",
        "  yforecast[yforecast < 0] = 0\n",
        "  ydifference = (yforecast - y)**2\n",
        "  sumSquares = ydifference.sum()\n",
        "  return sumSquares\n",
        "\n",
        "def returnSumofSquaresOfTensorsForPeriodForecastArray(yforecast, y, periodForecastArray):\n",
        "  sumSquaresArray = []\n",
        "  for periodForecast in periodForecastArray:\n",
        "    sumSquares = returnSumofSquares(yforecast[:periodForecast], y[:periodForecast])\n",
        "    sumSquaresArray.append(sumSquares)\n",
        "  return sumSquaresArray"
      ],
      "execution_count": null,
      "outputs": [
        {
          "output_type": "stream",
          "text": [
            "time: 21.1 ms\n"
          ],
          "name": "stdout"
        }
      ]
    },
    {
      "cell_type": "markdown",
      "metadata": {
        "id": "BcUgeL_AraJ6"
      },
      "source": [
        "Dataframe building for Prophet"
      ]
    },
    {
      "cell_type": "code",
      "metadata": {
        "id": "nz-0v-aMrdor"
      },
      "source": [
        "def returnFullDateArray(initialDateWithTime, timeRangeinHours = 24*365):\n",
        "  fullDateArray = pd.date_range(pd.Timestamp(initialDateWithTime),\n",
        "                    periods=timeRangeinHours, freq='h')\n",
        "\n",
        "  return fullDateArray\n",
        "\n",
        "def returnDataframeFor(timeseriesArray, fullDateArray):\n",
        "  df = pd.DataFrame(timeseriesArray)\n",
        "  df.columns = [\"y\"]\n",
        "  df[\"ds\"] = fullDateArray \n",
        "  return df"
      ],
      "execution_count": null,
      "outputs": []
    },
    {
      "cell_type": "code",
      "metadata": {
        "id": "9_IxbxcLSedG",
        "colab": {
          "base_uri": "https://localhost:8080/",
          "height": 34
        },
        "outputId": "76cea6b8-f046-4099-91bc-2c6777546efe"
      },
      "source": [
        "from tbats import TBATS, BATS\n",
        "from pmdarima import auto_arima\n",
        "from statsmodels.tsa.holtwinters import ExponentialSmoothing\n",
        "from fbprophet import Prophet\n",
        "\n",
        "def forecastWithProphet(dataframeTrainY, forecastingHourRange):\n",
        "  model = Prophet(yearly_seasonality=True,daily_seasonality=True, weekly_seasonality=True)\n",
        "  model.fit(dataframeTrainY)\n",
        "  forecast = model.make_future_dataframe(periods=forecastingHourRange, include_history=False)\n",
        "  forecast = model.predict(forecast)\n",
        "  return forecast\n",
        "\n",
        "def forecastWithTBATS(ytrain, forecastingHourRange):\n",
        "  # Fit the model\n",
        "  estimator = TBATS(seasonal_periods=(24, 24*7, 24*365.25))\n",
        "  model = estimator.fit(ytrain)\n",
        "  # Forecast 1 day ahead\n",
        "  yforecasted = model.forecast(steps=forecastingHourRange)\n",
        "  return yforecasted\n",
        "\n",
        "def forecastWithSARIMA(ytrain, forecastingHourRange):\n",
        "  arima_model = auto_arima(ytrain, seasonal=True, m=24)\n",
        "  yforecasted = arima_model.predict(n_periods=forecastingHourRange)\n",
        "  return yforecasted\n",
        "\n",
        "def forecastWithHoltWinters(ytrain, forecastingHourRange):\n",
        "  model = ExponentialSmoothing(ytrain, trend = \"add\", damped = True, seasonal=\"add\", seasonal_periods=24).fit()\n",
        "  yforecasted = model.predict(start=0, end=forecastingHourRange - 1)\n",
        "  return yforecasted\n",
        "\n",
        "def makeForecastFor(statisticalmethod, ytrain, forecastingHourRange):\n",
        "\n",
        "  yforecasted = None\n",
        "\n",
        "  if statisticalmethod == \"TBATS\":\n",
        "    yforecasted = forecastWithTBATS(ytrain, forecastingHourRange)\n",
        "\n",
        "  if statisticalmethod == \"SARIMA\":\n",
        "    yforecasted = forecastWithSARIMA(ytrain, forecastingHourRange)\n",
        "  \n",
        "  if statisticalmethod == \"Holt\":\n",
        "    yforecasted = forecastWithHoltWinters(ytrain, forecastingHourRange)\n",
        "\n",
        "  if statisticalmethod == \"Prophet\":\n",
        "    #dataframeY = returnDataframeFor(ytrain)\n",
        "    forecast = forecastWithProphet(ytrain, forecastingHourRange)\n",
        "    yforecasted = forecast.yhat[:forecastingHourRange]\n",
        "\n",
        "  return yforecasted"
      ],
      "execution_count": null,
      "outputs": [
        {
          "output_type": "stream",
          "text": [
            "time: 39.8 ms\n"
          ],
          "name": "stdout"
        }
      ]
    },
    {
      "cell_type": "markdown",
      "metadata": {
        "id": "SEBRoFO35pdz"
      },
      "source": [
        "## **Taxi flows forecasting**"
      ]
    },
    {
      "cell_type": "markdown",
      "metadata": {
        "id": "QRo2_3_Z5vYB"
      },
      "source": [
        "In this part, we apply the statistical methods to the taxi trips considering inter and intra taxi flows of each region."
      ]
    },
    {
      "cell_type": "code",
      "metadata": {
        "id": "zDfRMVcLGwq2",
        "colab": {
          "base_uri": "https://localhost:8080/",
          "height": 34
        },
        "outputId": "9e0eb110-0dce-4a84-8bc2-141230ffb65e"
      },
      "source": [
        "#OLD\n",
        "\n",
        "def runSimulationWith(statisticalMethod, regionIDsToForecastArray, startingIndex, endingIndex, endingIndexTraining, thetaxiTripsTensor, regionsFilteredArray, askingnewflow):\n",
        "  \n",
        "  rmse_Forecasting_Period_Arrays = [5, 10, 12, 16, 20, 24, 168, 336]\n",
        "  sumOfSquaresArray = [0, 0, 0, 0, 0, 0, 0, 0 ]\n",
        "\n",
        "  for regionIDValue in regionIDsToForecastArray:\n",
        "    print(\"region ID \", regionIDValue)\n",
        "    cluster = [regionIDValue]\n",
        "    y_train, y_test = returnTimeSeriesForRegion(cluster, startingIndex, endingIndex, endingIndexTraining, thetaxiTripsTensor , regionsFilteredArray, askingnewflow)\n",
        "\n",
        "    y_forecasted = makeForecastFor(statisticalMethod, y_train)\n",
        "\n",
        "    j = 0\n",
        "    for periodToForecast in rmse_Forecasting_Period_Arrays:\n",
        "      sumofsquares = returnMSESumFor(y_forecasted[:periodToForecast], y_test[:periodToForecast] )\n",
        "      prevValue = sumOfSquaresArray[j]\n",
        "      sumOfSquaresArray[j] = prevValue + sumofsquares\n",
        "      j = j + 1\n",
        "\n",
        "    print(\"Sum of squares \", sumOfSquaresArray)\n",
        "    print()\n",
        "  \n",
        "  return sumOfSquaresArray"
      ],
      "execution_count": null,
      "outputs": [
        {
          "output_type": "stream",
          "text": [
            "time: 11.4 ms\n"
          ],
          "name": "stdout"
        }
      ]
    },
    {
      "cell_type": "code",
      "metadata": {
        "id": "ix_hTSkvJSIb",
        "colab": {
          "base_uri": "https://localhost:8080/",
          "height": 34
        },
        "outputId": "54128e7d-faba-4dcb-984d-77f167d5085f"
      },
      "source": [
        "#NEW\n",
        "\n",
        "def runForecastingSimulation(statisticalMethod, forecastingHourRange, ytrain, ytest, regionID):\n",
        "  rmse_Forecasting_Period_Arrays = [1, 2, 3, 4, 5, 10, 12, 16, 24, 24*2, 24*3, 24*7, 24*7*2, 24*7*3]\n",
        "  sumOfSquaresArray = [0, 0, 0, 0, 0, 0, 0, 0, 0, 0, 0, 0, 0, 0]\n",
        "  rmse_values_array = [] \n",
        "  average_ytest_array = []\n",
        "  relative_rmse_array = []\n",
        "\n",
        "  yforecasted = makeForecastFor(statisticalMethod, ytrain, forecastingHourRange)\n",
        "\n",
        "  j = 0\n",
        "  for periodToForecast in rmse_Forecasting_Period_Arrays:\n",
        "    sumofsquares = returnMSESumFor(yforecasted[:periodToForecast], ytest[:periodToForecast] )\n",
        "    sumOfSquaresArray[j] = sumofsquares\n",
        "    rmse = (sumofsquares/periodToForecast)**0.5\n",
        "    rmse_values_array.append( rmse )\n",
        "    average_ytest = np.sum(ytest[:periodToForecast])/periodToForecast\n",
        "    rmse_to_average_ytest_value = 0\n",
        "    if average_ytest > 0:\n",
        "      rmse_to_average_ytest_value = int(100*rmse / average_ytest)\n",
        "    average_ytest_array.append( int(average_ytest) )\n",
        "\n",
        "    relative_rmse_array.append(rmse_to_average_ytest_value)\n",
        "    j = j + 1\n",
        "\n",
        "  print(\"Region ID :\", regionID)\n",
        "  print(\"Forecasting period :\", rmse_Forecasting_Period_Arrays)\n",
        "  print(\"RMSE values :\", rmse_values_array)\n",
        "  print(\"Average taxi trips :\", average_ytest_array)\n",
        "  print(\"Relative RMSE to average taxi trips %:\", relative_rmse_array)\n"
      ],
      "execution_count": null,
      "outputs": [
        {
          "output_type": "stream",
          "text": [
            "time: 25 ms\n"
          ],
          "name": "stdout"
        }
      ]
    },
    {
      "cell_type": "markdown",
      "metadata": {
        "id": "4tRtx4osrnRj"
      },
      "source": [
        "## **TBATS**"
      ]
    },
    {
      "cell_type": "code",
      "metadata": {
        "id": "5SutvZiPRBcO",
        "colab": {
          "base_uri": "https://localhost:8080/",
          "height": 1000
        },
        "outputId": "ee3b3610-16f3-48a7-ee08-dea630f09ce0"
      },
      "source": [
        "taxiTripsTensor = np.loadtxt(\"/content/interintraTaxiTripsTensorSepNov.csv\", delimiter=',')\n",
        "\n",
        "startIndex = 242*24\n",
        "endIndex = 333*24\n",
        "endIndexTraining = 61*24\n",
        "\n",
        "asking_new_flow = True\n",
        "\n",
        "statistical_method = \"TBATS\"\n",
        "\n",
        "regionIDsToForecast_array = [26, 53, 60, 62, 65, 66, 67, 68, 72, 73, 75, 76, 77, 78, 80, 82, 83, 88, 100, 125]\n",
        "\n",
        "sumOfSquaresArray = runSimulationWith(statistical_method, regionIDsToForecast_array, startIndex, endIndex, endIndexTraining, taxiTripsTensor, regions_selected_array, asking_new_flow)\n",
        "  \n",
        "print(\"Final sum for new-flows only\")\n",
        "print(sumOfSquaresArray)"
      ],
      "execution_count": null,
      "outputs": [
        {
          "output_type": "stream",
          "text": [
            "region ID  26\n",
            "Sum of squares  [70.66545668256768, 2389.1904432404117, 8793.633683982871, 22339.172468010547, 22939.503404466115, 25251.60588174062, 584552.6278134127, 1090431.2984903762]\n",
            "\n",
            "region ID  53\n",
            "Sum of squares  [80.00283715277367, 2410.6114488276357, 8831.829180381455, 22387.20047020168, 22993.38832353812, 25333.815340385114, 585900.673078528, 1095907.042935174]\n",
            "\n",
            "region ID  60\n",
            "Sum of squares  [676.3433274786127, 8404.938076974775, 14877.762002662737, 28670.983938720878, 34363.8811213683, 44532.71622848938, 1088074.4958949464, 1935695.1171671855]\n",
            "\n",
            "region ID  62\n",
            "Sum of squares  [676.5086527235669, 8405.259667294533, 14878.291128160607, 28675.090002780016, 34369.98023555957, 44543.26553901852, 1088181.339779632, 1935991.9504473866]\n",
            "\n",
            "region ID  65\n",
            "Sum of squares  [698.3490481344721, 8427.100062705438, 14900.16311945078, 28697.01494028533, 34391.905173064886, 44567.88685554651, 1089565.9356966855, 1938188.7437110578]\n",
            "\n",
            "region ID  66\n",
            "Sum of squares  [91432.0092094437, 110802.69725001516, 154207.38781237666, 325407.67325849016, 569864.9757929968, 818348.5727955005, 7466104.106311398, 13486947.6452056]\n",
            "\n",
            "region ID  67\n",
            "Sum of squares  [91434.60313095684, 110814.90473121502, 154220.73076822274, 325421.38877763465, 569886.0829622161, 818373.2853457993, 7466680.4331522165, 13487873.779680265]\n",
            "\n",
            "region ID  68\n",
            "Sum of squares  [91990.42099301385, 111377.67737903463, 154795.68834409484, 326013.90040999925, 570484.9580569526, 819090.9500982454, 7479669.565805489, 13510858.708699599]\n",
            "\n",
            "region ID  72\n",
            "Sum of squares  [92446.43222875959, 121738.14857871569, 179762.42460012902, 364209.00556688255, 646118.1087536477, 919990.872628025, 8124352.544456974, 14439951.863221437]\n",
            "\n",
            "region ID  73\n",
            "Sum of squares  [92446.43222875959, 122450.4255731863, 180546.47666979392, 366183.1489099464, 650692.7875759159, 925341.4192990495, 8180018.055432129, 14543484.608876597]\n",
            "\n",
            "region ID  75\n",
            "Sum of squares  [93265.02048476634, 123356.32029792093, 181564.11480018342, 367305.1311987572, 652526.2265200003, 931965.0915200852, 8229232.500727901, 14631513.095781516]\n",
            "\n",
            "region ID  76\n",
            "Sum of squares  [94063.43176723288, 131088.67124874363, 198708.84256134782, 390169.4813990302, 708313.7602912532, 1014298.6819802925, 8575688.58199544, 15249570.553503517]\n",
            "\n",
            "region ID  77\n",
            "Sum of squares  [100917.90288221864, 197789.8934210658, 289564.00445304345, 506250.0027825143, 850332.2443988973, 1251993.6810799765, 10246773.910107788, 18236735.256729566]\n",
            "\n",
            "region ID  78\n",
            "Sum of squares  [100957.90288221864, 199511.2619410628, 292444.02236240427, 525309.9140068492, 906917.9474597821, 1317495.719307512, 10820755.324873278, 20001512.488121215]\n",
            "\n",
            "region ID  80\n",
            "Sum of squares  [101088.42758075251, 199643.56536690373, 292578.2750492175, 525494.8925372919, 907129.1988086363, 1319327.599610168, 10893537.26421697, 20132143.391667966]\n",
            "\n",
            "region ID  82\n",
            "Sum of squares  [101103.80688179865, 199720.76755749324, 292661.8544179547, 525608.064019115, 907313.3925967308, 1319668.8416273885, 10896729.921262696, 20138904.022985514]\n",
            "\n",
            "region ID  83\n",
            "Sum of squares  [105449.82327946553, 210090.63008926617, 312106.2711485999, 560242.3962300507, 958767.0017479014, 1374542.1977371841, 11233570.579061227, 20690734.78651944]\n",
            "\n",
            "region ID  88\n",
            "Sum of squares  [105459.24605240789, 210158.00473272378, 312320.1974070911, 560489.5133989201, 959087.1087839666, 1374913.0651440634, 11236706.19624692, 20699547.23950784]\n",
            "\n",
            "region ID  100\n",
            "Sum of squares  [105468.24605240789, 210342.32616013277, 313137.28247622447, 564897.6060432384, 968158.522991079, 1384071.6898132304, 11497363.416997105, 21021586.779360954]\n",
            "\n",
            "region ID  125\n",
            "Sum of squares  [105589.24605240789, 211501.02299707706, 315239.2083470499, 569797.1821496377, 973673.0592821431, 1390837.3106574656, 11583861.335278302, 21148302.926757693]\n",
            "\n",
            "Final sum for new-flows only\n",
            "[105589.24605240789, 211501.02299707706, 315239.2083470499, 569797.1821496377, 973673.0592821431, 1390837.3106574656, 11583861.335278302, 21148302.926757693]\n",
            "time: 2h 14min 8s\n"
          ],
          "name": "stdout"
        }
      ]
    },
    {
      "cell_type": "code",
      "metadata": {
        "id": "V9AzPwbAzYWJ",
        "colab": {
          "base_uri": "https://localhost:8080/",
          "height": 1000
        },
        "outputId": "78879ec9-007f-4237-899c-b4837e1367a4"
      },
      "source": [
        "taxiTripsTensor = np.loadtxt(\"/content/interintraTaxiTripsTensorSepNov.csv\", delimiter=',')\n",
        "\n",
        "startIndex = 242*24\n",
        "endIndex = 333*24\n",
        "endIndexTraining = 61*24\n",
        "\n",
        "asking_new_flow = False\n",
        "\n",
        "statistical_method = \"TBATS\"\n",
        "\n",
        "regionIDsToForecast_array = [26, 53, 60, 62, 65, 66, 67, 68, 72, 73, 75, 76, 77, 78, 80, 82, 83, 88, 100, 125]\n",
        "\n",
        "sumOfSquaresArray = runSimulationWith(statistical_method, regionIDsToForecast_array, startIndex, endIndex, endIndexTraining, taxiTripsTensor, regions_selected_array, asking_new_flow)\n",
        "  \n",
        "print(\"Final sum for end-flows only\")\n",
        "print(sumOfSquaresArray)"
      ],
      "execution_count": null,
      "outputs": [
        {
          "output_type": "stream",
          "text": [
            "region ID  26\n",
            "Sum of squares  [13.29209871717448, 5368.797451337953, 9957.675842086097, 22909.77395282843, 32687.83954312939, 32995.12950627032, 174560.91577661238, 312213.155657891]\n",
            "\n",
            "region ID  53\n",
            "Sum of squares  [61.63673657179467, 5419.049980836112, 10010.159889878747, 22976.950342185268, 32778.703059512496, 33118.71521511699, 179687.09547152382, 320919.1343529515]\n",
            "\n",
            "region ID  60\n",
            "Sum of squares  [592.0536968548342, 6119.238804635754, 11488.192275839358, 37561.05333994167, 62379.586191736584, 91551.25187994062, 1053783.3383132343, 1858348.71585822]\n",
            "\n",
            "region ID  62\n",
            "Sum of squares  [725.1000405728827, 6265.107736896477, 11634.758730836404, 37739.49902914838, 62811.67705443555, 92345.04012004653, 1059880.7260608485, 1869719.090143033]\n",
            "\n",
            "region ID  65\n",
            "Sum of squares  [738.6596680966385, 6278.757922020322, 11652.430606509333, 37785.53896400887, 62902.44876449577, 92750.0938667681, 1063239.0207624114, 1877050.5302707218]\n",
            "\n",
            "region ID  66\n",
            "Sum of squares  [30958.987660387753, 52369.15219943844, 101866.2710565792, 294441.3335290376, 560228.8431130642, 951478.6240087795, 5177117.7585956445, 9341583.020574562]\n",
            "\n",
            "region ID  67\n",
            "Sum of squares  [31018.75427707992, 52429.30304848319, 101936.09564146616, 294544.418329458, 560440.3301961366, 951791.8581250093, 5185490.6306908345, 9355383.900863327]\n",
            "\n",
            "region ID  68\n",
            "Sum of squares  [31289.951818804868, 52709.176275883336, 102244.54931378795, 295057.4344658424, 561317.7198514745, 954255.88210141, 5210242.508987443, 9396632.722836789]\n",
            "\n",
            "region ID  72\n",
            "Sum of squares  [31315.682118523815, 54390.03566822137, 109211.5599660471, 332369.9610259687, 623623.2525578211, 1057068.2430753014, 6191841.997184416, 10747282.035636203]\n",
            "\n",
            "region ID  73\n",
            "Sum of squares  [31333.482043381875, 54429.33716589775, 110447.70505573477, 334562.07342118735, 626220.0765831122, 1059825.5198510608, 6242535.224690693, 10828943.141635925]\n",
            "\n",
            "region ID  75\n",
            "Sum of squares  [31336.068516877473, 54767.28957752648, 111255.28194349684, 336800.2021837617, 635782.1933949739, 1071283.2424777425, 6284166.282922441, 10911994.215388881]\n",
            "\n",
            "region ID  76\n",
            "Sum of squares  [32284.742524158348, 57410.298207900385, 114752.87811942889, 359444.8931266676, 688847.3244402246, 1156410.9648178269, 6620181.869434712, 11536284.744679712]\n",
            "\n",
            "region ID  77\n",
            "Sum of squares  [77094.45517117038, 167959.36420253312, 247404.89399000182, 509046.0629352991, 947364.9075197357, 1461065.28102879, 7954678.773158355, 13985224.764767578]\n",
            "\n",
            "region ID  78\n",
            "Sum of squares  [77987.24162943837, 170483.01582825105, 267530.1258728871, 540836.585492127, 1003730.8377380052, 1530438.011219735, 8421935.92160675, 15249750.125694048]\n",
            "\n",
            "region ID  80\n",
            "Sum of squares  [77989.63328985186, 170488.529218707, 267570.83958141913, 540892.6388590976, 1004844.3568538562, 1531616.2249176952, 8474678.254164582, 15327904.15414403]\n",
            "\n",
            "region ID  82\n",
            "Sum of squares  [78038.49064372598, 170579.71100026957, 267687.47365454776, 541074.2669691377, 1005318.274641706, 1532640.3534302157, 8486436.638372393, 15348717.448068803]\n",
            "\n",
            "region ID  83\n",
            "Sum of squares  [78332.58756630526, 175675.66699660924, 275702.00531570736, 565432.8360588384, 1036024.6884148516, 1571740.3391900146, 8644386.573408058, 15607149.37985755]\n",
            "\n",
            "region ID  88\n",
            "Sum of squares  [78496.41263943419, 175923.5073751587, 276389.57438240334, 566739.2894831413, 1038108.9052926813, 1574501.079031814, 8661056.284584776, 15637710.389818909]\n",
            "\n",
            "region ID  100\n",
            "Sum of squares  [78496.41263943419, 177334.2604527331, 279725.3470137074, 570682.653870472, 1042682.7239177966, 1579932.9512514481, 9012162.50433201, 16209643.35891504]\n",
            "\n",
            "region ID  125\n",
            "Sum of squares  [78523.79702940835, 178919.24956842224, 281576.5305802787, 575569.7523615321, 1050184.5285858435, 1587536.252539694, 9050703.094221713, 16274205.409446228]\n",
            "\n",
            "Final sum for end-flows only\n",
            "[78523.79702940835, 178919.24956842224, 281576.5305802787, 575569.7523615321, 1050184.5285858435, 1587536.252539694, 9050703.094221713, 16274205.409446228]\n",
            "time: 2h 16min 57s\n"
          ],
          "name": "stdout"
        }
      ]
    },
    {
      "cell_type": "markdown",
      "metadata": {
        "id": "yfVIQ3DarrDG"
      },
      "source": [
        "## **HOLT WINTERS**"
      ]
    },
    {
      "cell_type": "code",
      "metadata": {
        "id": "4y0cpUjBIIWd",
        "colab": {
          "base_uri": "https://localhost:8080/",
          "height": 1000
        },
        "outputId": "4956609a-ee2b-488d-f457-9b4b84c5cbac"
      },
      "source": [
        "taxiTripsTensor = np.loadtxt(\"/content/interintraTaxiTripsTensorSepNov.csv\", delimiter=',')\n",
        "\n",
        "startIndex = 242*24\n",
        "endIndex = 333*24\n",
        "endIndexTraining = 61*24\n",
        "\n",
        "asking_new_flow = True\n",
        "\n",
        "statistical_method = \"Holt\"\n",
        "\n",
        "regionIDsToForecast_array = [26, 53, 60, 62, 65, 66, 67, 68, 72, 73, 75, 76, 77, 78, 80, 82, 83, 88, 100, 125]\n",
        "\n",
        "sumOfSquaresArray = runSimulationWith(statistical_method, regionIDsToForecast_array, startIndex, endIndex, endIndexTraining, taxiTripsTensor, regions_selected_array, asking_new_flow)\n",
        "  \n",
        "print(\"Final sum for new-flows only\")\n",
        "print(sumOfSquaresArray)"
      ],
      "execution_count": null,
      "outputs": [
        {
          "output_type": "stream",
          "text": [
            "region ID  26\n",
            "Sum of squares  [509.0804882394669, 828.3705432902086, 1028.6634564068067, 2903.6895146577144, 8822.407531402701, 23926.922497040596, 1021017.287687128, 2015277.703336217]\n",
            "\n",
            "region ID  53\n",
            "Sum of squares  [510.6526053618468, 843.5796513441625, 1083.8621614998804, 2972.287479836729, 8915.782576116999, 24080.11172127603, 1023600.5386581906, 2024206.6274013238]\n",
            "\n",
            "region ID  60\n"
          ],
          "name": "stdout"
        },
        {
          "output_type": "stream",
          "text": [
            "/usr/local/lib/python3.6/dist-packages/statsmodels/tsa/holtwinters.py:744: ConvergenceWarning:\n",
            "\n",
            "Optimization failed to converge. Check mle_retvals.\n",
            "\n"
          ],
          "name": "stderr"
        },
        {
          "output_type": "stream",
          "text": [
            "Sum of squares  [18453.386810775923, 22578.69032345475, 23182.528044261824, 25872.67996621668, 40497.86370067415, 244912.06316304678, 2646579.183598753, 6251841.02597787]\n",
            "\n",
            "region ID  62\n",
            "Sum of squares  [18453.844132388695, 22579.150772639685, 23182.98849344676, 25877.162956497094, 40503.22859130739, 244919.1729461863, 2646684.634617977, 6252312.941767896]\n",
            "\n",
            "region ID  65\n",
            "Sum of squares  [18455.11820865775, 22580.425733540487, 23184.265014236084, 25878.441443471875, 40504.80149495416, 244923.88921125757, 2649530.9143670877, 6258188.729302942]\n",
            "\n",
            "region ID  66\n",
            "Sum of squares  [38489.83675805334, 48821.602072907655, 52589.41888257973, 115067.10944026257, 366982.5390749411, 777650.4521783679, 33749697.81680152, 70581107.7561566]\n",
            "\n",
            "region ID  67\n",
            "Sum of squares  [38492.23878843497, 48839.81923702792, 52622.250631032184, 115117.63965408823, 367053.10359123343, 777730.1815203908, 33750511.13333761, 70582588.58940625]\n",
            "\n",
            "region ID  68\n"
          ],
          "name": "stdout"
        },
        {
          "output_type": "stream",
          "text": [
            "/usr/local/lib/python3.6/dist-packages/statsmodels/tsa/holtwinters.py:744: ConvergenceWarning:\n",
            "\n",
            "Optimization failed to converge. Check mle_retvals.\n",
            "\n"
          ],
          "name": "stderr"
        },
        {
          "output_type": "stream",
          "text": [
            "Sum of squares  [38527.25678894959, 48878.28772960097, 52660.72165125378, 115156.35502614266, 367104.82555209624, 777921.0326035903, 33780893.01214656, 70657053.08373706]\n",
            "\n",
            "region ID  72\n",
            "Sum of squares  [38657.28607135879, 51262.67549491779, 55953.962006700065, 127341.98378514113, 392252.945759738, 815506.7937207178, 36417304.738982536, 75039453.88283977]\n",
            "\n",
            "region ID  73\n"
          ],
          "name": "stdout"
        },
        {
          "output_type": "stream",
          "text": [
            "/usr/local/lib/python3.6/dist-packages/statsmodels/tsa/holtwinters.py:744: ConvergenceWarning:\n",
            "\n",
            "Optimization failed to converge. Check mle_retvals.\n",
            "\n"
          ],
          "name": "stderr"
        },
        {
          "output_type": "stream",
          "text": [
            "Sum of squares  [38673.82157836987, 51326.96438729383, 56249.502192089545, 129006.30714160862, 400626.25187357713, 825745.4623804872, 36632358.684844345, 75406429.68220964]\n",
            "\n",
            "region ID  75\n"
          ],
          "name": "stdout"
        },
        {
          "output_type": "stream",
          "text": [
            "/usr/local/lib/python3.6/dist-packages/statsmodels/tsa/holtwinters.py:744: ConvergenceWarning:\n",
            "\n",
            "Optimization failed to converge. Check mle_retvals.\n",
            "\n"
          ],
          "name": "stderr"
        },
        {
          "output_type": "stream",
          "text": [
            "Sum of squares  [39659.503851751506, 52338.23836260556, 57435.98078412854, 130605.67960103926, 404314.6099783818, 834861.7363931191, 36806120.534730025, 75787910.72326763]\n",
            "\n",
            "region ID  76\n",
            "Sum of squares  [39844.42261891522, 52889.37521699088, 62036.07150658709, 144802.20911970266, 453631.99351586966, 897488.1566900807, 39014177.05182936, 80064870.74289009]\n",
            "\n",
            "region ID  77\n",
            "Sum of squares  [41023.677156233265, 55682.78420123392, 65495.136037583485, 171397.06985418714, 537646.759988559, 1049561.4206554096, 53438548.51967315, 110047433.0787147]\n",
            "\n",
            "region ID  78\n"
          ],
          "name": "stdout"
        },
        {
          "output_type": "stream",
          "text": [
            "/usr/local/lib/python3.6/dist-packages/statsmodels/tsa/holtwinters.py:744: ConvergenceWarning:\n",
            "\n",
            "Optimization failed to converge. Check mle_retvals.\n",
            "\n"
          ],
          "name": "stderr"
        },
        {
          "output_type": "stream",
          "text": [
            "Sum of squares  [43072.07909029, 59664.79731811723, 70132.26659014235, 180897.2157806701, 552407.1509904389, 1416778.0000303607, 55355511.10307985, 114096397.11286692]\n",
            "\n",
            "region ID  80\n",
            "Sum of squares  [43361.07909029, 59953.79731811749, 70434.26606694511, 181281.21466708058, 552836.1456400263, 1417327.9907099768, 55448162.04110664, 114236989.4422029]\n",
            "\n",
            "region ID  82\n",
            "Sum of squares  [43362.0769814052, 59998.794767416046, 70579.26280596197, 181540.21072833196, 553241.1413278849, 1417793.9862549333, 55455030.490058765, 114251389.77923611]\n",
            "\n",
            "region ID  83\n",
            "Sum of squares  [43378.05042701439, 64902.042571365244, 77548.81439813667, 200035.76020662053, 605620.732333665, 1471339.5638511837, 56771015.84343767, 117105196.96604012]\n",
            "\n",
            "region ID  88\n",
            "Sum of squares  [43379.9480568597, 64988.37408152701, 77807.46733012349, 200345.89204644415, 606083.7297737036, 1471930.3376344473, 56776888.81298585, 117122740.57492548]\n",
            "\n",
            "region ID  100\n"
          ],
          "name": "stdout"
        },
        {
          "output_type": "stream",
          "text": [
            "/usr/local/lib/python3.6/dist-packages/statsmodels/tsa/holtwinters.py:744: ConvergenceWarning:\n",
            "\n",
            "Optimization failed to converge. Check mle_retvals.\n",
            "\n"
          ],
          "name": "stderr"
        },
        {
          "output_type": "stream",
          "text": [
            "Sum of squares  [43386.711116127444, 65291.375869794574, 78130.70376441126, 200818.42778541156, 606656.4572967417, 1472545.0651574852, 57269683.63710783, 117761862.84065777]\n",
            "\n",
            "region ID  125\n",
            "Sum of squares  [43406.77332306037, 65964.63132046144, 79160.34840465235, 202377.16879222743, 608703.9951578804, 1479392.4219670217, 57431291.24178143, 118044437.43219416]\n",
            "\n",
            "Final sum for new-flows only\n",
            "[43406.77332306037, 65964.63132046144, 79160.34840465235, 202377.16879222743, 608703.9951578804, 1479392.4219670217, 57431291.24178143, 118044437.43219416]\n",
            "time: 34.5 s\n"
          ],
          "name": "stdout"
        }
      ]
    },
    {
      "cell_type": "code",
      "metadata": {
        "id": "DOrmgHCOH-3c",
        "colab": {
          "base_uri": "https://localhost:8080/",
          "height": 1000
        },
        "outputId": "03913f93-375c-4ea3-937c-8c9f20f4c3bc"
      },
      "source": [
        "taxiTripsTensor = np.loadtxt(\"/content/interintraTaxiTripsTensorSepNov.csv\", delimiter=',')\n",
        "\n",
        "startIndex = 242*24\n",
        "endIndex = 333*24\n",
        "endIndexTraining = 61*24\n",
        "\n",
        "asking_new_flow = False\n",
        "\n",
        "statistical_method = \"Holt\"\n",
        "\n",
        "regionIDsToForecast_array = [26, 53, 60, 62, 65, 66, 67, 68, 72, 73, 75, 76, 77, 78, 80, 82, 83, 88, 100, 125]\n",
        "\n",
        "sumOfSquaresArray = runSimulationWith(statistical_method, regionIDsToForecast_array, startIndex, endIndex, endIndexTraining, taxiTripsTensor, regions_selected_array, asking_new_flow)\n",
        "  \n",
        "print(\"Final sum for new-flows only\")\n",
        "print(sumOfSquaresArray)"
      ],
      "execution_count": null,
      "outputs": [
        {
          "output_type": "stream",
          "text": [
            "region ID  26\n"
          ],
          "name": "stdout"
        },
        {
          "output_type": "stream",
          "text": [
            "/usr/local/lib/python3.6/dist-packages/statsmodels/tsa/holtwinters.py:744: ConvergenceWarning:\n",
            "\n",
            "Optimization failed to converge. Check mle_retvals.\n",
            "\n"
          ],
          "name": "stderr"
        },
        {
          "output_type": "stream",
          "text": [
            "Sum of squares  [71.19152274572903, 4321.936559002658, 8462.677155149646, 31515.790793526125, 64973.72401996674, 65609.30171794398, 580378.0216815466, 1277948.348660149]\n",
            "\n",
            "region ID  53\n",
            "Sum of squares  [72.45964534265124, 4323.794564566523, 8468.569122460707, 31533.473010264726, 65049.45229143255, 65904.2312168587, 590196.4689439212, 1297893.9473020309]\n",
            "\n",
            "region ID  60\n",
            "Sum of squares  [1787.229277940944, 6368.524155555434, 10742.263768014705, 36583.98211886087, 150967.87834885347, 398732.96397858916, 3430889.1537094824, 7879530.855866762]\n",
            "\n",
            "region ID  62\n"
          ],
          "name": "stdout"
        },
        {
          "output_type": "stream",
          "text": [
            "/usr/local/lib/python3.6/dist-packages/statsmodels/tsa/holtwinters.py:744: ConvergenceWarning:\n",
            "\n",
            "Optimization failed to converge. Check mle_retvals.\n",
            "\n"
          ],
          "name": "stderr"
        },
        {
          "output_type": "stream",
          "text": [
            "Sum of squares  [1907.5439631085503, 6504.911345578137, 10881.747389647559, 36758.90467734422, 151563.6874024884, 401256.1697987744, 3442964.8480993924, 7908008.309084678]\n",
            "\n",
            "region ID  65\n",
            "Sum of squares  [1912.5623959788293, 6509.931710844441, 10893.010616373418, 36784.24780505545, 151703.5408095665, 402441.0498079479, 3452080.050954441, 7931586.344301726]\n",
            "\n",
            "region ID  66\n",
            "Sum of squares  [13428.466047299178, 19533.759460144116, 25165.864125026917, 106153.71705895473, 259647.6593622372, 1115028.3388572421, 29168126.000017755, 57837532.22856115]\n",
            "\n",
            "region ID  67\n",
            "Sum of squares  [13429.689044743394, 19534.993835646255, 25167.298951059103, 106164.26399713969, 259937.43680775506, 1116377.5175797346, 29188325.93622341, 57878799.1220452]\n",
            "\n",
            "region ID  68\n",
            "Sum of squares  [13465.701554986947, 19596.005170235443, 25232.309200369273, 106250.27314430523, 261126.36536409284, 1126754.2610146415, 29265444.78704308, 58035837.23896843]\n",
            "\n",
            "region ID  72\n",
            "Sum of squares  [14428.750662396385, 24412.309455677874, 31433.31530091638, 122951.78675275038, 283121.6290915549, 1172555.388595489, 32299685.050651133, 63125825.12455004]\n",
            "\n",
            "region ID  73\n",
            "Sum of squares  [14439.096783500749, 24448.202698914007, 32616.886191568996, 126867.0850755661, 288129.74475457, 1178046.8379816243, 32380960.31003798, 63291510.51962106]\n",
            "\n",
            "region ID  75\n"
          ],
          "name": "stdout"
        },
        {
          "output_type": "stream",
          "text": [
            "/usr/local/lib/python3.6/dist-packages/statsmodels/tsa/holtwinters.py:744: ConvergenceWarning:\n",
            "\n",
            "Optimization failed to converge. Check mle_retvals.\n",
            "\n"
          ],
          "name": "stderr"
        },
        {
          "output_type": "stream",
          "text": [
            "Sum of squares  [14439.418159150919, 24508.941539498075, 32819.2745763103, 129410.43321922331, 301018.85980754247, 1193127.931566426, 32542588.8706154, 63682023.9788625]\n",
            "\n",
            "region ID  76\n",
            "Sum of squares  [15599.191026953706, 26073.60165288579, 40328.567556440765, 142158.4457755581, 319356.83233531273, 1229550.6864275103, 34319814.658388406, 67172848.92354508]\n",
            "\n",
            "region ID  77\n",
            "Sum of squares  [16530.670895839863, 36877.26002635756, 52129.49816367798, 156879.43180668942, 382838.3549622258, 1305420.0539701085, 43735285.57163972, 87853694.6012326]\n",
            "\n",
            "region ID  78\n",
            "Sum of squares  [16671.632038500607, 39655.81965554828, 55599.5898626276, 161231.2790428626, 530805.7827016041, 1470417.299374993, 45527582.140856735, 91806231.11030021]\n",
            "\n",
            "region ID  80\n"
          ],
          "name": "stdout"
        },
        {
          "output_type": "stream",
          "text": [
            "/usr/local/lib/python3.6/dist-packages/statsmodels/tsa/holtwinters.py:744: ConvergenceWarning:\n",
            "\n",
            "Optimization failed to converge. Check mle_retvals.\n",
            "\n"
          ],
          "name": "stderr"
        },
        {
          "output_type": "stream",
          "text": [
            "Sum of squares  [16672.665530736846, 39687.90410231874, 55635.17990806823, 161306.29866515484, 530903.860849636, 1470556.134604557, 45605810.65368072, 91917722.52301599]\n",
            "\n",
            "region ID  82\n",
            "Sum of squares  [16673.180192862037, 39784.6147782848, 55751.86154585233, 161475.87926772883, 531686.2504302192, 1472864.8501405905, 45648187.83598626, 92002843.8590733]\n",
            "\n",
            "region ID  83\n",
            "Sum of squares  [16710.17864208966, 44796.111966094104, 61611.51426463452, 195717.05920673552, 575773.5059718755, 1550001.1061177393, 46346401.43035836, 93464968.52399698]\n",
            "\n",
            "region ID  88\n",
            "Sum of squares  [16710.247312237694, 45015.87898574442, 62249.41165994706, 196822.17464562357, 578174.1592990464, 1554836.3275342318, 46398357.498073824, 93587476.20381391]\n",
            "\n",
            "region ID  100\n",
            "Sum of squares  [16710.247312559623, 45530.86105740698, 62766.39334199711, 197448.14866874585, 578965.1236013457, 1555913.2755519694, 46928030.039505616, 94421850.45018879]\n",
            "\n",
            "region ID  125\n",
            "Sum of squares  [16733.404943419933, 46197.00652582406, 63551.27980301074, 201919.38342793495, 587193.605065977, 1564412.9345711942, 47010175.15520658, 94583649.23209131]\n",
            "\n",
            "Final sum for new-flows only\n",
            "[16733.404943419933, 46197.00652582406, 63551.27980301074, 201919.38342793495, 587193.605065977, 1564412.9345711942, 47010175.15520658, 94583649.23209131]\n",
            "time: 36.2 s\n"
          ],
          "name": "stdout"
        },
        {
          "output_type": "stream",
          "text": [
            "/usr/local/lib/python3.6/dist-packages/statsmodels/tsa/holtwinters.py:744: ConvergenceWarning:\n",
            "\n",
            "Optimization failed to converge. Check mle_retvals.\n",
            "\n"
          ],
          "name": "stderr"
        }
      ]
    },
    {
      "cell_type": "markdown",
      "metadata": {
        "id": "W5DoPGnDrxH3"
      },
      "source": [
        "## **Prophet**"
      ]
    },
    {
      "cell_type": "code",
      "metadata": {
        "id": "6vAT4fsdIfE2",
        "colab": {
          "base_uri": "https://localhost:8080/",
          "height": 1000
        },
        "outputId": "1dffbf16-9808-4b46-b750-1c715fd96969"
      },
      "source": [
        "taxiTripsTensor = np.loadtxt(\"/content/interintraTaxiTripsTensorSepNov.csv\", delimiter=',')\n",
        "\n",
        "startIndex = 242*24\n",
        "endIndex = 333*24\n",
        "endIndexTraining = 61*24\n",
        "\n",
        "asking_new_flow = True\n",
        "\n",
        "statistical_method = \"Prophet\"\n",
        "\n",
        "regionIDsToForecast_array = [26, 53, 60, 62, 65, 66, 67, 68, 72, 73, 75, 76, 77, 78, 80, 82, 83, 88, 100, 125]\n",
        "\n",
        "sumOfSquaresArray = runSimulationWith(statistical_method, regionIDsToForecast_array, startIndex, endIndex, endIndexTraining, taxiTripsTensor, regions_selected_array, asking_new_flow)\n",
        "  \n",
        "print(\"Final sum for new-flows only\")\n",
        "print(sumOfSquaresArray)"
      ],
      "execution_count": null,
      "outputs": [
        {
          "output_type": "stream",
          "text": [
            "region ID  26\n"
          ],
          "name": "stdout"
        },
        {
          "output_type": "stream",
          "text": [
            "INFO:numexpr.utils:NumExpr defaulting to 2 threads.\n"
          ],
          "name": "stderr"
        },
        {
          "output_type": "stream",
          "text": [
            "Sum of squares  [9516.736540840866, 15401.949269022785, 32043.949269022785, 70118.41712895187, 182205.37477389182, 231417.7545047604, 4123816.7545047603, 8498349.75450476]\n",
            "\n",
            "region ID  53\n",
            "Sum of squares  [9707.652110982868, 15655.040625384376, 32359.05928289863, 70499.65774994645, 182693.48127474272, 232008.30821758928, 4130237.2721002474, 8518688.515783966]\n",
            "\n",
            "region ID  60\n",
            "Sum of squares  [100786.80121275623, 124276.2223835132, 170935.06889498432, 227192.17390674877, 393722.54579198227, 464299.0144081753, 6011761.171120443, 12215673.674870303]\n",
            "\n",
            "region ID  62\n",
            "Sum of squares  [100798.19333590833, 124295.34864044248, 170959.68646283777, 227221.17522641626, 393759.5043266424, 464341.6091947775, 6011954.6456304565, 12216060.513703845]\n",
            "\n",
            "region ID  65\n",
            "Sum of squares  [100857.47983557163, 124377.98752995045, 171089.02280918605, 227369.55709476862, 393966.75920133, 464565.52047231345, 6015854.217850132, 12224527.784200529]\n",
            "\n",
            "region ID  66\n",
            "Sum of squares  [1930823.846637687, 2283275.863676397, 2334368.231689506, 2504007.8683209713, 2729315.613189983, 3177993.3482971895, 32530317.52333366, 68332993.15188397]\n",
            "\n",
            "region ID  67\n",
            "Sum of squares  [1930834.3693646626, 2283298.6498855012, 2334399.578453903, 2504042.7049591164, 2729359.2512108875, 3178040.3428563015, 32531488.518242326, 68337332.03664953]\n",
            "\n",
            "region ID  68\n",
            "Sum of squares  [1932314.6079127784, 2285578.6796979434, 2337766.60489629, 2508058.544696742, 2734916.900809909, 3184158.8900005524, 32609462.33564458, 68579449.70620452]\n",
            "\n",
            "region ID  72\n",
            "Sum of squares  [1967832.4408353453, 2381610.7588546406, 2518899.906405918, 2916643.7243796573, 3300164.566993651, 3756549.0659400444, 43123149.533046916, 88768404.90360686]\n",
            "\n",
            "region ID  73\n",
            "Sum of squares  [1969558.6011224187, 2384206.591182538, 2521605.2077135337, 2920458.104580539, 3304530.669390428, 3761355.383097911, 43358234.507928796, 89095950.87848873]\n",
            "\n",
            "region ID  75\n",
            "Sum of squares  [2008588.5218572493, 2451394.8867705064, 2606920.643429305, 3021152.940936692, 3431457.3609482134, 3896749.50851561, 44239685.95685378, 90972305.86507379]\n",
            "\n",
            "region ID  76\n",
            "Sum of squares  [2040847.0198917242, 2571212.9318429227, 2835677.6421093466, 3573165.326148456, 4218989.631985546, 4697534.883134114, 52984786.80453908, 109252051.71275908]\n",
            "\n",
            "region ID  77\n",
            "Sum of squares  [2316741.1860761167, 2895472.501826763, 3589740.067249231, 5155987.350637537, 7423045.412101734, 8048867.000846484, 74929377.51170534, 152423170.28959987]\n",
            "\n",
            "region ID  78\n",
            "Sum of squares  [2333861.0533122243, 2933934.022639276, 3648614.071657949, 5275586.9516041875, 7603360.727275021, 8238595.28333579, 80024432.79419464, 163993249.57208917]\n",
            "\n",
            "region ID  80\n",
            "Sum of squares  [2335795.1926337853, 2937899.3611925156, 3653421.6230957974, 5281171.847154758, 7610971.733108416, 8248192.841265914, 80201716.01539852, 164546190.81299385]\n",
            "\n",
            "region ID  82\n",
            "Sum of squares  [2335951.09163164, 2938297.344799445, 3653860.3879442476, 5281694.68249937, 7611536.710685387, 8248905.781167202, 80208882.19586773, 164565874.2544056]\n",
            "\n",
            "region ID  83\n",
            "Sum of squares  [2345969.7435868056, 3110264.3887518826, 3867436.566817946, 5522702.381051088, 7888958.337158082, 8532808.627219144, 82530663.88654612, 168939241.7590756]\n",
            "\n",
            "region ID  88\n",
            "Sum of squares  [2346030.413350453, 3110782.9762656344, 3868640.472298339, 5524309.624740954, 7890722.336525079, 8534584.682941796, 82542267.602319, 168968232.4356205]\n",
            "\n",
            "region ID  100\n",
            "Sum of squares  [2346153.5553469644, 3111304.5071134004, 3869502.003146105, 5525445.832040241, 7892539.543824366, 8536412.462056845, 83110689.28157686, 169659905.11487833]\n",
            "\n",
            "region ID  125\n",
            "Sum of squares  [2348005.526475581, 3114146.5750614414, 3873955.452647765, 5531507.745002108, 7902138.8970573265, 8546693.95520866, 83592746.30607644, 170551035.13937792]\n",
            "\n",
            "Final sum for new-flows only\n",
            "[2348005.526475581, 3114146.5750614414, 3873955.452647765, 5531507.745002108, 7902138.8970573265, 8546693.95520866, 83592746.30607644, 170551035.13937792]\n",
            "time: 1min 10s\n"
          ],
          "name": "stdout"
        }
      ]
    },
    {
      "cell_type": "code",
      "metadata": {
        "id": "orSluZXmIjgV",
        "colab": {
          "base_uri": "https://localhost:8080/",
          "height": 1000
        },
        "outputId": "3dbf8472-99b4-458b-cf1f-f7bf2def94c3"
      },
      "source": [
        "taxiTripsTensor = np.loadtxt(\"/content/interintraTaxiTripsTensorSepNov.csv\", delimiter=',')\n",
        "\n",
        "startIndex = 242*24\n",
        "endIndex = 333*24\n",
        "endIndexTraining = 61*24\n",
        "\n",
        "asking_new_flow = False\n",
        "\n",
        "statistical_method = \"Prophet\"\n",
        "\n",
        "regionIDsToForecast_array = [26, 53, 60, 62, 65, 66, 67, 68, 72, 73, 75, 76, 77, 78, 80, 82, 83, 88, 100, 125]\n",
        "\n",
        "sumOfSquaresArray = runSimulationWith(statistical_method, regionIDsToForecast_array, startIndex, endIndex, endIndexTraining, taxiTripsTensor, regions_selected_array, asking_new_flow)\n",
        "  \n",
        "print(\"Final sum for new-flows only\")\n",
        "print(sumOfSquaresArray)"
      ],
      "execution_count": null,
      "outputs": [
        {
          "output_type": "stream",
          "text": [
            "region ID  26\n",
            "Sum of squares  [3392.6251803581245, 15274.442505621795, 29054.442505621795, 62568.52481740806, 76769.64588953575, 77752.39365356867, 1461121.166713277, 3907011.166713277]\n",
            "\n",
            "region ID  53\n",
            "Sum of squares  [4062.1970827520154, 16373.076463122941, 30438.066751067196, 64182.82262800605, 78627.6063695123, 79682.1272532882, 1481557.7415557078, 3958504.035467492]\n",
            "\n",
            "region ID  60\n",
            "Sum of squares  [187273.0017684236, 304314.35207855084, 395525.80238608154, 460812.3841255511, 484169.1856355303, 536030.3500821474, 5583992.337716914, 12781172.306519695]\n",
            "\n",
            "region ID  62\n",
            "Sum of squares  [187942.13294072202, 305392.81455310003, 396855.2570694262, 462455.3699152185, 485909.9706036712, 538136.7810755364, 5602404.628620958, 12821181.088825447]\n",
            "\n",
            "region ID  65\n",
            "Sum of squares  [188620.6371246005, 306547.3845953771, 398350.75601044216, 464248.5937402343, 487828.7616648634, 540368.5453860189, 5621848.63623168, 12869825.396651035]\n",
            "\n",
            "region ID  66\n",
            "Sum of squares  [1785703.9153176986, 2370857.888883413, 2494133.2510356572, 2794668.0198070207, 3552580.965495027, 3883308.9136754433, 41124727.095840044, 89528933.91674921]\n",
            "\n",
            "region ID  67\n",
            "Sum of squares  [1786553.6735340538, 2372233.080624891, 2495983.8674453525, 2796835.4209356476, 3554872.8461673413, 3885787.001266566, 41152326.20441081, 89590109.62319514]\n",
            "\n",
            "region ID  68\n",
            "Sum of squares  [1792013.4302042, 2381020.128949099, 2507555.5289809196, 2810568.1293778014, 3569712.245410526, 3902427.7498621866, 41295148.81748956, 89917426.95890594]\n",
            "\n",
            "region ID  72\n",
            "Sum of squares  [1898373.7774290284, 2538307.843165199, 2723459.39353822, 3120373.8662630413, 3982206.59437039, 4323884.98724054, 51187489.27093266, 109778476.41234905]\n",
            "\n",
            "region ID  73\n",
            "Sum of squares  [1899664.1435612743, 2539777.233626235, 2725244.589307106, 3123585.225161177, 3989128.7687184014, 4332561.834347166, 51439266.81119554, 110147802.95261192]\n",
            "\n",
            "region ID  75\n",
            "Sum of squares  [1904673.1173920005, 2545864.8678237116, 2732300.1155133694, 3134708.524254317, 4011308.478185055, 4358671.381282172, 51841608.77211299, 111030836.14367671]\n",
            "\n",
            "region ID  76\n",
            "Sum of squares  [1964270.7935708177, 2665267.387612439, 2943340.8633704437, 3423976.1412072675, 4356881.796364897, 4713080.899235863, 57016170.2059349, 123057704.57749861]\n",
            "\n",
            "region ID  77\n",
            "Sum of squares  [2059861.909221101, 3687463.9204364545, 4441255.901791339, 5486916.21538872, 6551729.7180766165, 6965114.113172201, 71411112.27528436, 150730255.4820808]\n",
            "\n",
            "region ID  78\n",
            "Sum of squares  [2083519.8653775915, 3738875.8286426, 4520320.931623048, 5660394.140685167, 6815904.733865836, 7255937.582061687, 77094389.74417385, 162583132.95097026]\n",
            "\n",
            "region ID  80\n",
            "Sum of squares  [2083587.289283157, 3738951.7389445617, 4520417.707508122, 5660531.326877292, 6816111.6630445095, 7256256.422076912, 77168590.52881502, 162819980.53156665]\n",
            "\n",
            "region ID  82\n",
            "Sum of squares  [2085744.5536029157, 3741816.80156747, 4523408.787056354, 5664010.171546623, 6821809.8426285405, 7263018.630658498, 77237494.16646788, 162994252.66630977]\n",
            "\n",
            "region ID  83\n",
            "Sum of squares  [2100663.572652923, 3758742.3790617604, 4551868.413160063, 5793744.045993392, 7066697.327852461, 7513882.551916489, 78727733.1286882, 165773446.6572305]\n",
            "\n",
            "region ID  88\n",
            "Sum of squares  [2103902.726500831, 3763059.38006758, 4556391.653485659, 5799661.149588497, 7077340.137870981, 7524990.741964871, 78810267.82664062, 165944100.72378063]\n",
            "\n",
            "region ID  100\n",
            "Sum of squares  [2104542.8936557327, 3764251.152757355, 4557587.100690228, 5801192.05445861, 7079178.042741094, 7526850.154860549, 79419022.2395363, 166872139.1366763]\n",
            "\n",
            "region ID  125\n",
            "Sum of squares  [2105021.9685013504, 3765448.7993374853, 4562149.747270359, 5808694.832530816, 7087287.384224009, 7535189.906445519, 79601595.02997535, 167348451.92711535]\n",
            "\n",
            "Final sum for new-flows only\n",
            "[2105021.9685013504, 3765448.7993374853, 4562149.747270359, 5808694.832530816, 7087287.384224009, 7535189.906445519, 79601595.02997535, 167348451.92711535]\n",
            "time: 1min 8s\n"
          ],
          "name": "stdout"
        }
      ]
    },
    {
      "cell_type": "markdown",
      "metadata": {
        "id": "peOyK6u3r1ZP"
      },
      "source": [
        "## **SARIMA**"
      ]
    },
    {
      "cell_type": "code",
      "metadata": {
        "id": "nlaJAXl2IDH9"
      },
      "source": [
        "taxiTripsTensor = np.loadtxt(\"/content/interintraTaxiTripsTensorSepNov.csv\", delimiter=',')\n",
        "\n",
        "startIndex = 242*24\n",
        "endIndex = 333*24\n",
        "endIndexTraining = 61*24\n",
        "\n",
        "asking_new_flow = True\n",
        "\n",
        "statistical_method = \"SARIMA\"\n",
        "\n",
        "regionIDsToForecast_array = [26, 53, 60, 62, 65, 66, 67, 68, 72, 73, 75, 76, 77, 78, 80, 82, 83, 88, 100, 125]\n",
        "\n",
        "sumOfSquaresArray = runSimulationWith(statistical_method, regionIDsToForecast_array, startIndex, endIndex, endIndexTraining, taxiTripsTensor, regions_selected_array, asking_new_flow)\n",
        "  \n",
        "print(\"Final sum for new-flows only\")\n",
        "print(sumOfSquaresArray)"
      ],
      "execution_count": null,
      "outputs": []
    },
    {
      "cell_type": "code",
      "metadata": {
        "id": "PjYCQ9ddIxL3"
      },
      "source": [
        "taxiTripsTensor = np.loadtxt(\"/content/interintraTaxiTripsTensorSepNov.csv\", delimiter=',')\n",
        "\n",
        "startIndex = 242*24\n",
        "endIndex = 333*24\n",
        "endIndexTraining = 61*24\n",
        "\n",
        "asking_new_flow = False\n",
        "\n",
        "statistical_method = \"SARIMA\"\n",
        "\n",
        "regionIDsToForecast_array = [26, 53, 60, 62, 65, 66, 67, 68, 72, 73, 75, 76, 77, 78, 80, 82, 83, 88, 100, 125]\n",
        "\n",
        "sumOfSquaresArray = runSimulationWith(statistical_method, regionIDsToForecast_array, startIndex, endIndex, endIndexTraining, taxiTripsTensor, regions_selected_array, asking_new_flow)\n",
        "  \n",
        "print(\"Final sum for new-flows only\")\n",
        "print(sumOfSquaresArray)"
      ],
      "execution_count": null,
      "outputs": []
    },
    {
      "cell_type": "markdown",
      "metadata": {
        "id": "RYFFcTc4QBWl"
      },
      "source": [
        "## **Prophet 2**"
      ]
    },
    {
      "cell_type": "code",
      "metadata": {
        "id": "cx7N1JBrQDbB",
        "colab": {
          "base_uri": "https://localhost:8080/",
          "height": 139
        },
        "outputId": "2d6b80dc-34e2-4a95-e1a8-fd839a13849d"
      },
      "source": [
        "\n",
        "#taxitrips_df\n",
        "\n",
        "start_training_index = 0\n",
        "end_training_index = convertDatetoHourIndex([11, 2, 8], 2016)\n",
        "\n",
        "forecastHourRange = 24*7*3\n",
        "regionID = \"66_new\"\n",
        "statistical_method = \"Prophet\"\n",
        "\n",
        "period_range = end_training_index - start_training_index \n",
        "\n",
        "fullDateArray = pd.date_range(pd.Timestamp('2015-01-01'),\n",
        "                    periods=end_training_index, freq='h')\n",
        "\n",
        "data = array(taxitrips_df[regionID][:end_training_index])\n",
        "data = data.reshape(data.shape[0],)\n",
        "\n",
        "y_train = pd.DataFrame(data)\n",
        "y_train.columns = [\"y\"]\n",
        "y_train[\"ds\"] = fullDateArray \n",
        "\n",
        "y_test =array( taxitrips_df[regionID][end_training_index:end_training_index+forecastHourRange].copy())\n",
        "y_test = y_test.reshape(y_test.shape[0],)\n",
        "\n",
        "runForecastingSimulation(statistical_method, forecastHourRange, y_train, y_test, regionID)"
      ],
      "execution_count": null,
      "outputs": [
        {
          "output_type": "stream",
          "text": [
            "Region ID : 66_new\n",
            "Forecasting period : [1, 2, 3, 4, 5, 10, 12, 16, 24, 48, 72, 168, 336, 504]\n",
            "RMSE values : [638.6784253479194, 581.4933344664943, 477.55838895759274, 479.3104536567856, 588.4412193845812, 640.0674428098532, 864.6592801235336, 776.1637781589535, 685.2427797679645, 611.5678459071495, 728.9880206010267, 634.1424725617571, 553.0948245042828, 538.0166930856607]\n",
            "Average taxi trips : [1156.0, 1130.5, 1023.0, 1003.75, 1021.4, 1084.8, 1208.25, 1095.125, 939.875, 872.75, 946.1666666666666, 801.8690476190476, 737.5654761904761, 717.9702380952381]\n",
            "Relative RMSE to average taxi trips %: [55.24899873251898, 51.43682746275933, 46.68214945822021, 47.75197545771214, 57.611241373074336, 59.00326722067231, 71.56294476503484, 70.874446127972, 72.90786325500355, 70.07365750869658, 77.04647038235267, 79.0830465952872, 74.98925076604942, 74.93579323190458]\n",
            "time: 10.8 s\n"
          ],
          "name": "stdout"
        }
      ]
    },
    {
      "cell_type": "markdown",
      "metadata": {
        "id": "lJytb9C0lnKB"
      },
      "source": [
        "## **Holt Winters**"
      ]
    },
    {
      "cell_type": "code",
      "metadata": {
        "id": "dkPo5PrRlmpo",
        "colab": {
          "base_uri": "https://localhost:8080/",
          "height": 207
        },
        "outputId": "f9223673-ab9d-49a0-e4c2-8bbc9e1c503e"
      },
      "source": [
        "start_training_index = 0\n",
        "end_training_index = convertDatetoHourIndex([11, 2, 8], 2016)\n",
        "\n",
        "forecastHourRange = 24*7*3\n",
        "regionID = \"66_new\"\n",
        "statistical_method = \"Holt\"\n",
        "\n",
        "y_train = array(taxitrips_df[regionID][:end_training_index].copy())\n",
        "y_train = y_train.reshape(y_train.shape[0],)\n",
        "\n",
        "y_test = array(taxitrips_df[regionID][end_training_index:end_training_index+forecastHourRange].copy())\n",
        "\n",
        "y_test = y_test.reshape(y_test.shape[0],)\n",
        "\n",
        "runForecastingSimulation(statistical_method, forecastHourRange, y_train, y_test, regionID)"
      ],
      "execution_count": null,
      "outputs": [
        {
          "output_type": "stream",
          "text": [
            "/usr/local/lib/python3.6/dist-packages/statsmodels/tsa/holtwinters.py:744: ConvergenceWarning:\n",
            "\n",
            "Optimization failed to converge. Check mle_retvals.\n",
            "\n"
          ],
          "name": "stderr"
        },
        {
          "output_type": "stream",
          "text": [
            "Region ID : 66_new\n",
            "Forecasting period : [1, 2, 3, 4, 5, 10, 12, 16, 24, 48, 72, 168, 336, 504]\n",
            "RMSE values : [232.20326696855716, 474.2816108365533, 813.5307207291755, 850.4692611704675, 777.8305636090747, 819.017107607831, 1002.0232741287575, 871.2961541667802, 733.3705695545865, 700.7734185898412, 734.2123784072962, 695.4405159815828, 694.6610598710912, 689.0840284343184]\n",
            "Average taxi trips : [1156.0, 1130.5, 1023.0, 1003.75, 1021.4, 1084.8, 1208.25, 1095.125, 939.875, 872.75, 946.1666666666666, 801.8690476190476, 737.5654761904761, 717.9702380952381]\n",
            "Relative RMSE to average taxi trips %: [20.086787800048196, 41.9532605782002, 79.52401962162028, 84.72919164836539, 76.15337415401163, 75.49936463936496, 82.93178349917298, 79.56134269300584, 78.02852183051859, 80.29486320135676, 77.5986307987278, 86.7274423481642, 94.18296846796758, 95.97668425120875]\n",
            "time: 6.82 s\n"
          ],
          "name": "stdout"
        }
      ]
    },
    {
      "cell_type": "markdown",
      "metadata": {
        "id": "RIeSrUyavB04"
      },
      "source": [
        "## **TBATS**"
      ]
    },
    {
      "cell_type": "code",
      "metadata": {
        "id": "3FtripxCu_8k",
        "colab": {
          "base_uri": "https://localhost:8080/",
          "height": 139
        },
        "outputId": "996fdcd4-907d-4f9d-d962-b1188397a954"
      },
      "source": [
        "start_training_index = 0\n",
        "end_training_index = convertDatetoHourIndex([11, 2, 8], 2016)\n",
        "\n",
        "forecastHourRange = 24*7*3\n",
        "regionID = \"66_new\"\n",
        "statistical_method = \"TBATS\"\n",
        "\n",
        "y_train = array(taxitrips_df[regionID][:end_training_index].copy())\n",
        "y_train = y_train.reshape(y_train.shape[0],)\n",
        "\n",
        "y_test = array(taxitrips_df[regionID][end_training_index:end_training_index+forecastHourRange].copy())\n",
        "\n",
        "y_test = y_test.reshape(y_test.shape[0],)\n",
        "\n",
        "runForecastingSimulation(statistical_method, forecastHourRange, y_train, y_test, regionID)"
      ],
      "execution_count": null,
      "outputs": [
        {
          "output_type": "stream",
          "text": [
            "Region ID : 66_new\n",
            "Forecasting period : [1, 2, 3, 4, 5, 10, 12, 16, 24, 48, 72, 168, 336, 504]\n",
            "RMSE values : [78.20915016986419, 62.498095612936886, 127.7088602285604, 110.66830214527661, 109.4843131524924, 202.21447329587411, 331.9057950499188, 298.080858608384, 332.66303305971303, 258.69332811101157, 276.91262651025755, 290.8563208801537, 250.0816643723843, 236.67086397565654]\n",
            "Average taxi trips : [1156, 1130, 1023, 1003, 1021, 1084, 1208, 1095, 939, 872, 946, 801, 737, 717]\n",
            "Relative RMSE to average taxi trips %: [6, 5, 12, 11, 10, 18, 27, 27, 35, 29, 29, 36, 33, 32]\n",
            "time: 1h 24min 39s\n"
          ],
          "name": "stdout"
        }
      ]
    },
    {
      "cell_type": "code",
      "metadata": {
        "id": "7wep2P1zLX26",
        "colab": {
          "base_uri": "https://localhost:8080/",
          "height": 139
        },
        "outputId": "608f382b-dc5e-4223-c24a-ae2ee788a78e"
      },
      "source": [
        "start_training_index = 0\n",
        "end_training_index = convertDatetoHourIndex([11, 2, 8], 2016)\n",
        "\n",
        "forecastHourRange = 24*7*3\n",
        "regionID = \"66_new\"\n",
        "statistical_method = \"TBATS\"\n",
        "\n",
        "y_train = array(taxitrips_df[regionID][:end_training_index].copy())\n",
        "y_train = y_train.reshape(y_train.shape[0],)\n",
        "\n",
        "y_test = array(taxitrips_df[regionID][end_training_index:end_training_index+forecastHourRange].copy())\n",
        "\n",
        "y_test = y_test.reshape(y_test.shape[0],)\n",
        "\n",
        "runForecastingSimulation(statistical_method, forecastHourRange, y_train, y_test, regionID)"
      ],
      "execution_count": null,
      "outputs": [
        {
          "output_type": "stream",
          "text": [
            "Region ID : 66_new\n",
            "Forecasting period : [1, 2, 3, 4, 5, 10, 12, 16, 24, 48, 72, 168, 336, 504]\n",
            "RMSE values : [64.69700080825874, 54.54762215547685, 115.73701178293, 100.90400348155951, 111.1416529863778, 204.32994495873257, 334.2708144702242, 299.6448969975132, 335.0196531432973, 260.3215484478436, 278.33585153457034, 291.4280905266571, 252.982618603687, 244.1084241171384]\n",
            "Average taxi trips : [1156, 1130, 1023, 1003, 1021, 1084, 1208, 1095, 939, 872, 946, 801, 737, 717]\n",
            "Relative RMSE to average taxi trips %: [5, 4, 11, 10, 10, 18, 27, 27, 35, 29, 29, 36, 34, 33]\n",
            "time: 1h 42min 57s\n"
          ],
          "name": "stdout"
        }
      ]
    }
  ]
}